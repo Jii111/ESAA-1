{
 "cells": [
  {
   "cell_type": "code",
   "execution_count": 1,
   "metadata": {
    "id": "t-RMDKJB7CyJ"
   },
   "outputs": [],
   "source": [
    "# 데이터 로드\n",
    "from sklearn.datasets import fetch_openml\n",
    "mnist=fetch_openml('mnist_784', version=1)"
   ]
  },
  {
   "cell_type": "code",
   "execution_count": 2,
   "metadata": {
    "id": "itFJcmUSkBrK"
   },
   "outputs": [],
   "source": [
    "# train, test split\n",
    "X_train = mnist['data'][:60000]\n",
    "y_train = mnist['target'][:60000]\n",
    "X_test = mnist['data'][60000:]\n",
    "y_test = mnist['target'][60000:]"
   ]
  },
  {
   "cell_type": "markdown",
   "metadata": {
    "id": "RbkbV_ZWkSPc"
   },
   "source": [
    "* 랜덤포레스트에 적용"
   ]
  },
  {
   "cell_type": "code",
   "execution_count": 4,
   "metadata": {
    "executionInfo": {
     "elapsed": 7,
     "status": "ok",
     "timestamp": 1639927863389,
     "user": {
      "displayName": "­김혜원(자연과학대학 통계학과)",
      "photoUrl": "https://lh3.googleusercontent.com/a/default-user=s64",
      "userId": "08917696197582483021"
     },
     "user_tz": -540
    },
    "id": "xmeHyXmKkLN1"
   },
   "outputs": [],
   "source": [
    "# 랜덤포레스트에 적용 (n_estimators=10, random_state=42)\n",
    "from sklearn.ensemble import RandomForestClassifier\n",
    "from sklearn.model_selection import cross_val_score\n",
    "import numpy as np\n",
    "\n",
    "rcf=RandomForestClassifier(random_state=42,n_estimators=10)"
   ]
  },
  {
   "cell_type": "code",
   "execution_count": 18,
   "metadata": {
    "executionInfo": {
     "elapsed": 7,
     "status": "ok",
     "timestamp": 1639927863391,
     "user": {
      "displayName": "­김혜원(자연과학대학 통계학과)",
      "photoUrl": "https://lh3.googleusercontent.com/a/default-user=s64",
      "userId": "08917696197582483021"
     },
     "user_tz": -540
    },
    "id": "WXjOor-jknmH"
   },
   "outputs": [
    {
     "name": "stdout",
     "output_type": "stream",
     "text": [
      "원본 데이터 평균 정확도: 0.9057999999999999\n"
     ]
    }
   ],
   "source": [
    "# 정확도 결과\n",
    "scores=cross_val_score(rcf,X_test,y_test,scoring='accuracy')\n",
    "#print('원본 데이터 교차 검증 개별 정확도:',scores)\n",
    "print('원본 데이터 평균 정확도:',np.mean(scores))"
   ]
  },
  {
   "cell_type": "markdown",
   "metadata": {
    "id": "Lw4KuER0lAGA"
   },
   "source": [
    "* PCA로 변환한 데이터 세트에 랜덤 포레스트 적용"
   ]
  },
  {
   "cell_type": "code",
   "execution_count": 23,
   "metadata": {
    "id": "u_w8te9tlDsr"
   },
   "outputs": [
    {
     "name": "stdout",
     "output_type": "stream",
     "text": [
      "(60000, 784)\n",
      "(60000, 331)\n",
      "원본 데이터 평균 정확도: 0.8766\n"
     ]
    }
   ],
   "source": [
    "# PCA 적용 95% : n_components=0.95\n",
    "from sklearn.decomposition import PCA\n",
    "from sklearn.preprocessing import StandardScaler\n",
    "\n",
    "X_train_scaled=StandardScaler().fit_transform(X_train)\n",
    "pca=PCA(n_components=0.95)\n",
    "\n",
    "pca.fit(X_train_scaled)\n",
    "X_train_pca=pca.transform(X_train_scaled)\n",
    "print(X_train.shape)\n",
    "print(X_train_pca.shape)\n",
    "\n",
    "scores_pca_train1=cross_val_score(rcf,X_train_pca,y_train,scoring='accuracy')\n",
    "print('원본 데이터 평균 정확도:',np.mean(scores_pca_train1))"
   ]
  },
  {
   "cell_type": "code",
   "execution_count": 19,
   "metadata": {},
   "outputs": [
    {
     "name": "stdout",
     "output_type": "stream",
     "text": [
      "(60000, 154)\n"
     ]
    }
   ],
   "source": [
    "#정규화 적용X\n",
    "X_train = mnist['data'][:60000]\n",
    "pca.fit(X_train)\n",
    "X_pca=pca.transform(X_train)\n",
    "print(X_pca.shape)\n",
    "\n",
    "scores_pca_train2=cross_val_score(rcf,X_pca,y_train,scoring='accuracy')\n",
    "print('원본 데이터 평균 정확도:',np.mean(scores_pca_train2))"
   ]
  },
  {
   "cell_type": "code",
   "execution_count": null,
   "metadata": {
    "id": "aFezNneClV8u"
   },
   "outputs": [],
   "source": [
    "# PCA 이후 랜덤포레스트 훈련\n",
    "rcf=RandomForestClassifier(random_state=42,n_estimators=10)"
   ]
  },
  {
   "cell_type": "code",
   "execution_count": 20,
   "metadata": {},
   "outputs": [
    {
     "name": "stdout",
     "output_type": "stream",
     "text": [
      "(10000, 784)\n",
      "(10000, 280)\n"
     ]
    }
   ],
   "source": [
    "# 정확도 결과 (X_test도 PCA 적용해야합니다.-정규화 적용)\n",
    "X_test_scaled=StandardScaler().fit_transform(X_test)\n",
    "pca=PCA(n_components=0.95)\n",
    "\n",
    "pca.fit(X_test_scaled)\n",
    "X_test_pca=pca.transform(X_test_scaled)\n",
    "print(X_test.shape)\n",
    "print(X_test_pca.shape)"
   ]
  },
  {
   "cell_type": "code",
   "execution_count": 21,
   "metadata": {
    "id": "PrsoPgs-lzYj"
   },
   "outputs": [
    {
     "name": "stdout",
     "output_type": "stream",
     "text": [
      "원본 데이터 평균 정확도: 0.7901\n"
     ]
    }
   ],
   "source": [
    "# 정확도 결과 (X_test도 PCA 적용해야합니다.)\n",
    "scores_pca=cross_val_score(rcf,X_test_pca,y_test,scoring='accuracy')\n",
    "print('원본 데이터 평균 정확도:',np.mean(scores_pca))"
   ]
  }
 ],
 "metadata": {
  "colab": {
   "collapsed_sections": [],
   "name": "차원축소.ipynb",
   "provenance": []
  },
  "kernelspec": {
   "display_name": "Python 3",
   "language": "python",
   "name": "python3"
  },
  "language_info": {
   "codemirror_mode": {
    "name": "ipython",
    "version": 3
   },
   "file_extension": ".py",
   "mimetype": "text/x-python",
   "name": "python",
   "nbconvert_exporter": "python",
   "pygments_lexer": "ipython3",
   "version": "3.8.8"
  }
 },
 "nbformat": 4,
 "nbformat_minor": 1
}
