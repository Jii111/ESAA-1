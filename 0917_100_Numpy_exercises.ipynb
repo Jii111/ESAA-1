{
  "nbformat": 4,
  "nbformat_minor": 5,
  "metadata": {
    "colab": {
      "name": "100_Numpy_exercises (1) (1).ipynb",
      "provenance": [],
      "collapsed_sections": [
        "782d4c77",
        "48d48f01",
        "4fa39382",
        "da64551a",
        "f89d9c9e",
        "7e44c6fa",
        "13c5928c",
        "3fa2e461",
        "73f7a549",
        "6d0c506f",
        "d6ad1a9f",
        "e3a7ba7f",
        "6d17ab5d",
        "8837119b",
        "ec788c9f",
        "391791e0",
        "51898680",
        "89e78048",
        "ebd10810",
        "c0e940f8",
        "22713c3f",
        "f1ae2c2d",
        "34a7bdee",
        "37bc0973",
        "129c342d",
        "42f8b2f9",
        "252c43e2",
        "486df8ea",
        "649e89f9",
        "3421e17f",
        "483dd554",
        "2d07be1c",
        "6415f02e",
        "fe043549",
        "cc08f71c",
        "2002cb03",
        "b7109c9f",
        "7d3131b9",
        "7c8c1fc5",
        "5795b4bd",
        "fb24674c",
        "e6e1ae2f",
        "c01f0ecf",
        "3b64a18b",
        "48413134",
        "0a532633",
        "f98713a6",
        "1abc7cc8",
        "0cf413ee",
        "215b6acc",
        "c0cf37e0",
        "c17fb213",
        "8aaab886",
        "66a04e2e",
        "f4427f7f",
        "58be9dd4",
        "7348abd0",
        "538e651c",
        "33c986d9",
        "00eb27c4",
        "928a1a15",
        "5143f7f3",
        "f62551d8",
        "6896e326",
        "aeaf4a7b",
        "3d11451b",
        "a0a45995",
        "7808578f",
        "8e83df46",
        "e67ff31c",
        "ad8821b1",
        "a0c8cbf5",
        "781fa236",
        "9c9bb0f3",
        "7d8dc135",
        "aa340126",
        "6b6d2c84",
        "7be0fe36",
        "a840a88f",
        "c2bd7385",
        "4c70397b",
        "15ba193c",
        "ec828405",
        "d94352b6",
        "7c3a9e32",
        "da9d5eeb",
        "f7b65fd5",
        "2784c996",
        "71a7574c",
        "30f06441",
        "e5737276",
        "5882e36d"
      ]
    },
    "kernelspec": {
      "display_name": "Python 3",
      "language": "python",
      "name": "python3"
    },
    "language_info": {
      "codemirror_mode": {
        "name": "ipython",
        "version": 3
      },
      "file_extension": ".py",
      "mimetype": "text/x-python",
      "name": "python",
      "nbconvert_exporter": "python",
      "pygments_lexer": "ipython3",
      "version": "3.8.8"
    }
  },
  "cells": [
    {
      "cell_type": "markdown",
      "metadata": {
        "id": "bf79c78b"
      },
      "source": [
        "# 100 numpy exercises\n",
        "\n",
        "This is a collection of exercises that have been collected in the numpy mailing list, on stack overflow\n",
        "and in the numpy documentation. The goal of this collection is to offer a quick reference for both old\n",
        "and new users but also to provide a set of exercises for those who teach.\n",
        "\n",
        "\n",
        "If you find an error or think you've a better way to solve some of them, feel\n",
        "free to open an issue at <https://github.com/rougier/numpy-100>."
      ],
      "id": "bf79c78b"
    },
    {
      "cell_type": "markdown",
      "metadata": {
        "id": "8536e059"
      },
      "source": [
        "File automatically generated. See the documentation to update questions/answers/hints programmatically."
      ],
      "id": "8536e059"
    },
    {
      "cell_type": "markdown",
      "metadata": {
        "id": "e16ac60b"
      },
      "source": [
        "Run the `initialize.py` module, then for each question you can query the\n",
        "answer or an hint with `hint(n)` or `answer(n)` for `n` question number."
      ],
      "id": "e16ac60b"
    },
    {
      "cell_type": "code",
      "metadata": {
        "id": "a8453483"
      },
      "source": [
        "%run initialise.py"
      ],
      "id": "a8453483",
      "execution_count": null,
      "outputs": []
    },
    {
      "cell_type": "markdown",
      "metadata": {
        "id": "017db353"
      },
      "source": [
        "#### 1. Import the numpy package under the name `np` (★☆☆)"
      ],
      "id": "017db353"
    },
    {
      "cell_type": "code",
      "metadata": {
        "id": "68182a76"
      },
      "source": [
        "import numpy as np"
      ],
      "id": "68182a76",
      "execution_count": 1,
      "outputs": []
    },
    {
      "cell_type": "markdown",
      "metadata": {
        "id": "46950f4f"
      },
      "source": [
        "#### 2. Print the numpy version and the configuration (★☆☆)"
      ],
      "id": "46950f4f"
    },
    {
      "cell_type": "code",
      "metadata": {
        "id": "2a9f5838",
        "colab": {
          "base_uri": "https://localhost:8080/"
        },
        "outputId": "f6385262-78cd-46da-e6a8-2880451ddbcc"
      },
      "source": [
        "print(np.__version__)\n",
        "np.show_config()\n",
      ],
      "id": "2a9f5838",
      "execution_count": 2,
      "outputs": [
        {
          "output_type": "stream",
          "name": "stdout",
          "text": [
            "1.19.5\n",
            "blas_mkl_info:\n",
            "  NOT AVAILABLE\n",
            "blis_info:\n",
            "  NOT AVAILABLE\n",
            "openblas_info:\n",
            "    libraries = ['openblas', 'openblas']\n",
            "    library_dirs = ['/usr/local/lib']\n",
            "    language = c\n",
            "    define_macros = [('HAVE_CBLAS', None)]\n",
            "blas_opt_info:\n",
            "    libraries = ['openblas', 'openblas']\n",
            "    library_dirs = ['/usr/local/lib']\n",
            "    language = c\n",
            "    define_macros = [('HAVE_CBLAS', None)]\n",
            "lapack_mkl_info:\n",
            "  NOT AVAILABLE\n",
            "openblas_lapack_info:\n",
            "    libraries = ['openblas', 'openblas']\n",
            "    library_dirs = ['/usr/local/lib']\n",
            "    language = c\n",
            "    define_macros = [('HAVE_CBLAS', None)]\n",
            "lapack_opt_info:\n",
            "    libraries = ['openblas', 'openblas']\n",
            "    library_dirs = ['/usr/local/lib']\n",
            "    language = c\n",
            "    define_macros = [('HAVE_CBLAS', None)]\n"
          ]
        }
      ]
    },
    {
      "cell_type": "markdown",
      "metadata": {
        "id": "e3c20b3d"
      },
      "source": [
        "#### 3. Create a null vector of size 10 (★☆☆)"
      ],
      "id": "e3c20b3d"
    },
    {
      "cell_type": "code",
      "metadata": {
        "id": "8a758bcf",
        "colab": {
          "base_uri": "https://localhost:8080/"
        },
        "outputId": "a96c8b58-1848-4105-fec7-13c2eed9382f"
      },
      "source": [
        "np.zeros(10)"
      ],
      "id": "8a758bcf",
      "execution_count": 3,
      "outputs": [
        {
          "output_type": "execute_result",
          "data": {
            "text/plain": [
              "array([0., 0., 0., 0., 0., 0., 0., 0., 0., 0.])"
            ]
          },
          "metadata": {},
          "execution_count": 3
        }
      ]
    },
    {
      "cell_type": "markdown",
      "metadata": {
        "id": "b15a879f"
      },
      "source": [
        "#### 4. How to find the memory size of any array (★☆☆)"
      ],
      "id": "b15a879f"
    },
    {
      "cell_type": "code",
      "metadata": {
        "id": "1cc3cbc5",
        "colab": {
          "base_uri": "https://localhost:8080/"
        },
        "outputId": "dba1042d-8c32-49a1-9345-0bead8a1cef2"
      },
      "source": [
        "a=np.zeros(10)\n",
        "np.size(z)\n",
        "#new_function\n",
        "#np.size()"
      ],
      "id": "1cc3cbc5",
      "execution_count": 11,
      "outputs": [
        {
          "output_type": "execute_result",
          "data": {
            "text/plain": [
              "10"
            ]
          },
          "metadata": {},
          "execution_count": 11
        }
      ]
    },
    {
      "cell_type": "markdown",
      "metadata": {
        "id": "0a708990"
      },
      "source": [
        "#### 5. How to get the documentation of the numpy add function from the command line? (★☆☆)"
      ],
      "id": "0a708990"
    },
    {
      "cell_type": "code",
      "metadata": {
        "id": "477e01f4"
      },
      "source": [
        "np.info(np.add)\n",
        "#new_function\n",
        "#np.size()\n",
        "#np.info()\n",
        "\n",
      ],
      "id": "477e01f4",
      "execution_count": 13,
      "outputs": []
    },
    {
      "cell_type": "markdown",
      "metadata": {
        "id": "0b16cd77"
      },
      "source": [
        "#### 6. Create a null vector of size 10 but the fifth value which is 1 (★☆☆)"
      ],
      "id": "0b16cd77"
    },
    {
      "cell_type": "code",
      "metadata": {
        "id": "4d9b5975",
        "colab": {
          "base_uri": "https://localhost:8080/"
        },
        "outputId": "421e510e-029a-4a48-f551-8cbf80f00b76"
      },
      "source": [
        "b=np.zeros(10)\n",
        "b[4]=1\n",
        "b"
      ],
      "id": "4d9b5975",
      "execution_count": 14,
      "outputs": [
        {
          "output_type": "execute_result",
          "data": {
            "text/plain": [
              "array([0., 0., 0., 0., 1., 0., 0., 0., 0., 0.])"
            ]
          },
          "metadata": {},
          "execution_count": 14
        }
      ]
    },
    {
      "cell_type": "markdown",
      "metadata": {
        "id": "782d4c77"
      },
      "source": [
        "#### 7. Create a vector with values ranging from 10 to 49 (★☆☆)"
      ],
      "id": "782d4c77"
    },
    {
      "cell_type": "code",
      "metadata": {
        "id": "5dbe1a08",
        "colab": {
          "base_uri": "https://localhost:8080/"
        },
        "outputId": "3868b91d-8c49-4de0-fcb7-dcf06e8c4c0f"
      },
      "source": [
        "c=np.arange(10,50)\n",
        "c"
      ],
      "id": "5dbe1a08",
      "execution_count": 17,
      "outputs": [
        {
          "output_type": "execute_result",
          "data": {
            "text/plain": [
              "array([10, 11, 12, 13, 14, 15, 16, 17, 18, 19, 20, 21, 22, 23, 24, 25, 26,\n",
              "       27, 28, 29, 30, 31, 32, 33, 34, 35, 36, 37, 38, 39, 40, 41, 42, 43,\n",
              "       44, 45, 46, 47, 48, 49])"
            ]
          },
          "metadata": {},
          "execution_count": 17
        }
      ]
    },
    {
      "cell_type": "markdown",
      "metadata": {
        "id": "48d48f01"
      },
      "source": [
        "#### 8. Reverse a vector (first element becomes last) (★☆☆)"
      ],
      "id": "48d48f01"
    },
    {
      "cell_type": "code",
      "metadata": {
        "id": "3ed233e7",
        "colab": {
          "base_uri": "https://localhost:8080/"
        },
        "outputId": "519c6157-6476-456f-ef7b-ea880f333a0b"
      },
      "source": [
        "d=np.arange(10,50)[::-1]\n",
        "d"
      ],
      "id": "3ed233e7",
      "execution_count": 18,
      "outputs": [
        {
          "output_type": "execute_result",
          "data": {
            "text/plain": [
              "array([49, 48, 47, 46, 45, 44, 43, 42, 41, 40, 39, 38, 37, 36, 35, 34, 33,\n",
              "       32, 31, 30, 29, 28, 27, 26, 25, 24, 23, 22, 21, 20, 19, 18, 17, 16,\n",
              "       15, 14, 13, 12, 11, 10])"
            ]
          },
          "metadata": {},
          "execution_count": 18
        }
      ]
    },
    {
      "cell_type": "markdown",
      "metadata": {
        "id": "4fa39382"
      },
      "source": [
        "#### 9. Create a 3x3 matrix with values ranging from 0 to 8 (★☆☆)"
      ],
      "id": "4fa39382"
    },
    {
      "cell_type": "code",
      "metadata": {
        "id": "c97757ec",
        "colab": {
          "base_uri": "https://localhost:8080/"
        },
        "outputId": "cd0c6a4d-4637-4e9d-8881-31e5f941a79d"
      },
      "source": [
        "e=np.arange(0,9)\n",
        "e.reshape(3,3)\n",
        "\n",
        "#new_function\n",
        "#np.size()\n",
        "#np.info()\n",
        "#matrix 만들 땐 reshape\n",
        "\n",
      ],
      "id": "c97757ec",
      "execution_count": 20,
      "outputs": [
        {
          "output_type": "execute_result",
          "data": {
            "text/plain": [
              "array([[0, 1, 2],\n",
              "       [3, 4, 5],\n",
              "       [6, 7, 8]])"
            ]
          },
          "metadata": {},
          "execution_count": 20
        }
      ]
    },
    {
      "cell_type": "markdown",
      "metadata": {
        "id": "da64551a"
      },
      "source": [
        "#### 10. Find indices of non-zero elements from [1,2,0,0,4,0] (★☆☆)"
      ],
      "id": "da64551a"
    },
    {
      "cell_type": "code",
      "metadata": {
        "id": "327f7adb",
        "colab": {
          "base_uri": "https://localhost:8080/"
        },
        "outputId": "209c63bd-1034-4e83-ad5c-5616785c2699"
      },
      "source": [
        "f=np.array([1,2,0,0,4,0])\n",
        "np.nonzero(f)\n",
        "\n",
        "#new_function\n",
        "#np.size()\n",
        "#np.info()\n",
        "#matrix 만들 땐 reshape\n",
        "#np.nonzero()"
      ],
      "id": "327f7adb",
      "execution_count": 24,
      "outputs": [
        {
          "output_type": "execute_result",
          "data": {
            "text/plain": [
              "(array([0, 1, 4]),)"
            ]
          },
          "metadata": {},
          "execution_count": 24
        }
      ]
    },
    {
      "cell_type": "code",
      "metadata": {
        "id": "qZ1kQkts_X9o"
      },
      "source": [
        ""
      ],
      "id": "qZ1kQkts_X9o",
      "execution_count": null,
      "outputs": []
    },
    {
      "cell_type": "markdown",
      "metadata": {
        "id": "f89d9c9e"
      },
      "source": [
        "#### 11. Create a 3x3 identity matrix (★☆☆)"
      ],
      "id": "f89d9c9e"
    },
    {
      "cell_type": "code",
      "metadata": {
        "id": "ba625832",
        "colab": {
          "base_uri": "https://localhost:8080/"
        },
        "outputId": "a94e06e9-fab8-4dcb-d6f7-705069e11190"
      },
      "source": [
        "g=np.identity(3)\n",
        "g\n",
        "\n",
        "#new_function\n",
        "#np.size()\n",
        "#np.info()\n",
        "#matrix 만들 땐 reshape\n",
        "#np.nonzero()\n",
        "#np.identify()"
      ],
      "id": "ba625832",
      "execution_count": 25,
      "outputs": [
        {
          "output_type": "execute_result",
          "data": {
            "text/plain": [
              "array([[1., 0., 0.],\n",
              "       [0., 1., 0.],\n",
              "       [0., 0., 1.]])"
            ]
          },
          "metadata": {},
          "execution_count": 25
        }
      ]
    },
    {
      "cell_type": "markdown",
      "metadata": {
        "id": "7e44c6fa"
      },
      "source": [
        "#### 12. Create a 3x3x3 array with random values (★☆☆)"
      ],
      "id": "7e44c6fa"
    },
    {
      "cell_type": "code",
      "metadata": {
        "id": "1cb3dddf",
        "colab": {
          "base_uri": "https://localhost:8080/"
        },
        "outputId": "b81d71ba-693a-4bba-df77-0ff6d7cabab7"
      },
      "source": [
        "np.random.rand(3,3,3)\n",
        "\n",
        "#new_function\n",
        "#np.size()\n",
        "#np.info()\n",
        "#matrix 만들 땐 reshape\n",
        "#np.nonzero()\n",
        "#np.identify()\n",
        "#np.random.rand()"
      ],
      "id": "1cb3dddf",
      "execution_count": 26,
      "outputs": [
        {
          "output_type": "execute_result",
          "data": {
            "text/plain": [
              "array([[[0.77535732, 0.13274289, 0.84481847],\n",
              "        [0.7888692 , 0.91273505, 0.82026361],\n",
              "        [0.20509051, 0.84886725, 0.28558833]],\n",
              "\n",
              "       [[0.18781015, 0.56203313, 0.74199717],\n",
              "        [0.64403989, 0.2428606 , 0.73992589],\n",
              "        [0.78899155, 0.85300952, 0.73804236]],\n",
              "\n",
              "       [[0.85427873, 0.0733665 , 0.70026948],\n",
              "        [0.14361819, 0.43637624, 0.23311334],\n",
              "        [0.12121758, 0.07266145, 0.82594716]]])"
            ]
          },
          "metadata": {},
          "execution_count": 26
        }
      ]
    },
    {
      "cell_type": "markdown",
      "metadata": {
        "id": "13c5928c"
      },
      "source": [
        "#### 13. Create a 10x10 array with random values and find the minimum and maximum values (★☆☆)"
      ],
      "id": "13c5928c"
    },
    {
      "cell_type": "code",
      "metadata": {
        "id": "911c9b93",
        "colab": {
          "base_uri": "https://localhost:8080/"
        },
        "outputId": "7154a005-ec08-4678-9b6a-d9846b5f6b90"
      },
      "source": [
        "h=np.random.rand(10,10)\n",
        "h\n",
        "\n",
        "print(np.min(h), np.max(h))"
      ],
      "id": "911c9b93",
      "execution_count": 32,
      "outputs": [
        {
          "output_type": "stream",
          "name": "stdout",
          "text": [
            "0.009191027442002841 0.9973729068384268\n"
          ]
        }
      ]
    },
    {
      "cell_type": "markdown",
      "metadata": {
        "id": "3fa2e461"
      },
      "source": [
        "#### 14. Create a random vector of size 30 and find the mean value (★☆☆)"
      ],
      "id": "3fa2e461"
    },
    {
      "cell_type": "code",
      "metadata": {
        "id": "323eb38a",
        "colab": {
          "base_uri": "https://localhost:8080/"
        },
        "outputId": "e8762c05-d994-439d-8e33-fb1d156defcd"
      },
      "source": [
        "i=np.random.rand(30)\n",
        "i\n",
        "\n",
        "j=np.random.random(30)\n",
        "j\n",
        "\n",
        "#array와 vector의 차이\n",
        "#np.random.rand와 np.random.random의 차이"
      ],
      "id": "323eb38a",
      "execution_count": 36,
      "outputs": [
        {
          "output_type": "execute_result",
          "data": {
            "text/plain": [
              "array([0.93212049, 0.86472558, 0.90123812, 0.3899398 , 0.46538912,\n",
              "       0.97432442, 0.57016415, 0.609522  , 0.31293981, 0.64691009,\n",
              "       0.60502593, 0.47726853, 0.31380693, 0.20228798, 0.91567129,\n",
              "       0.16201509, 0.38280053, 0.59404178, 0.4942394 , 0.08371854,\n",
              "       0.41702332, 0.52766052, 0.94146956, 0.96383086, 0.07279445,\n",
              "       0.28515306, 0.86066441, 0.48174998, 0.82454344, 0.93103216])"
            ]
          },
          "metadata": {},
          "execution_count": 36
        }
      ]
    },
    {
      "cell_type": "markdown",
      "metadata": {
        "id": "73f7a549"
      },
      "source": [
        "#### 15. Create a 2d array with 1 on the border and 0 inside (★☆☆)"
      ],
      "id": "73f7a549"
    },
    {
      "cell_type": "code",
      "metadata": {
        "id": "e3a6807d",
        "colab": {
          "base_uri": "https://localhost:8080/"
        },
        "outputId": "fd18fb32-416d-4805-e118-afef55896c3c"
      },
      "source": [
        "k=np.ones((5,5))\n",
        "k[1:4,1:4]=0\n",
        "k"
      ],
      "id": "e3a6807d",
      "execution_count": 40,
      "outputs": [
        {
          "output_type": "execute_result",
          "data": {
            "text/plain": [
              "array([[1., 1., 1., 1., 1.],\n",
              "       [1., 0., 0., 0., 1.],\n",
              "       [1., 0., 0., 0., 1.],\n",
              "       [1., 0., 0., 0., 1.],\n",
              "       [1., 1., 1., 1., 1.]])"
            ]
          },
          "metadata": {},
          "execution_count": 40
        }
      ]
    },
    {
      "cell_type": "markdown",
      "metadata": {
        "id": "6d0c506f"
      },
      "source": [
        "#### 16. How to add a border (filled with 0's) around an existing array? (★☆☆)"
      ],
      "id": "6d0c506f"
    },
    {
      "cell_type": "code",
      "metadata": {
        "id": "32ffee7b",
        "colab": {
          "base_uri": "https://localhost:8080/"
        },
        "outputId": "540ceebd-dbd8-45e2-fd0c-8ee5ae02d422"
      },
      "source": [
        "l = np.ones((5,5))\n",
        "l = np.pad(l, pad_width=1, mode='constant', constant_values=0)\n",
        "l\n",
        "\n",
        "#new_function\n",
        "#np.size()\n",
        "#np.info()\n",
        "#matrix 만들 땐 reshape\n",
        "#np.nonzero()\n",
        "#np.identify()\n",
        "#np.random.rand()\n",
        "#np.pad(array,pad_width,mode,constant_values)"
      ],
      "id": "32ffee7b",
      "execution_count": 41,
      "outputs": [
        {
          "output_type": "execute_result",
          "data": {
            "text/plain": [
              "array([[0., 0., 0., 0., 0., 0., 0.],\n",
              "       [0., 1., 1., 1., 1., 1., 0.],\n",
              "       [0., 1., 1., 1., 1., 1., 0.],\n",
              "       [0., 1., 1., 1., 1., 1., 0.],\n",
              "       [0., 1., 1., 1., 1., 1., 0.],\n",
              "       [0., 1., 1., 1., 1., 1., 0.],\n",
              "       [0., 0., 0., 0., 0., 0., 0.]])"
            ]
          },
          "metadata": {},
          "execution_count": 41
        }
      ]
    },
    {
      "cell_type": "markdown",
      "metadata": {
        "id": "d6ad1a9f"
      },
      "source": [
        "#### 17. What is the result of the following expression? (★☆☆)\n",
        "```python\n",
        "0 * np.nan\n",
        "np.nan == np.nan\n",
        "np.inf > np.nan\n",
        "np.nan - np.nan\n",
        "np.nan in set([np.nan])\n",
        "0.3 == 3 * 0.1\n",
        "```"
      ],
      "id": "d6ad1a9f"
    },
    {
      "cell_type": "code",
      "metadata": {
        "id": "ee7ff0f3",
        "colab": {
          "base_uri": "https://localhost:8080/"
        },
        "outputId": "56199655-84fb-4d77-fda6-07d5a23aafc9"
      },
      "source": [
        "print(0 * np.nan)\n",
        "print(np.nan == np.nan)\n",
        "print(np.inf > np.nan)\n",
        "print(np.nan - np.nan)\n",
        "print(np.nan in set([np.nan]))\n",
        "print(0.3 == 3 * 0.1)"
      ],
      "id": "ee7ff0f3",
      "execution_count": 43,
      "outputs": [
        {
          "output_type": "stream",
          "name": "stdout",
          "text": [
            "nan\n",
            "False\n",
            "False\n",
            "nan\n",
            "True\n",
            "False\n"
          ]
        }
      ]
    },
    {
      "cell_type": "markdown",
      "metadata": {
        "id": "e3a7ba7f"
      },
      "source": [
        "#### 18. Create a 5x5 matrix with values 1,2,3,4 just below the diagonal (★☆☆)"
      ],
      "id": "e3a7ba7f"
    },
    {
      "cell_type": "code",
      "metadata": {
        "id": "01d8e257",
        "colab": {
          "base_uri": "https://localhost:8080/"
        },
        "outputId": "fff0672a-9620-4980-8256-d6e29922ab65"
      },
      "source": [
        "m=np.diag([1,2,3,4,5])\n",
        "m\n",
        "\n",
        "#new_function\n",
        "#np.size()\n",
        "#np.info()\n",
        "#matrix 만들 땐 reshape\n",
        "#np.nonzero()\n",
        "#np.identify()\n",
        "#np.random.rand()\n",
        "#np.pad(array,pad_width,mode,constant_values)\n",
        "#np.diag()"
      ],
      "id": "01d8e257",
      "execution_count": 44,
      "outputs": [
        {
          "output_type": "execute_result",
          "data": {
            "text/plain": [
              "array([[1, 0, 0, 0, 0],\n",
              "       [0, 2, 0, 0, 0],\n",
              "       [0, 0, 3, 0, 0],\n",
              "       [0, 0, 0, 4, 0],\n",
              "       [0, 0, 0, 0, 5]])"
            ]
          },
          "metadata": {},
          "execution_count": 44
        }
      ]
    },
    {
      "cell_type": "markdown",
      "metadata": {
        "id": "6d17ab5d"
      },
      "source": [
        "#### 19. Create a 8x8 matrix and fill it with a checkerboard pattern (★☆☆)"
      ],
      "id": "6d17ab5d"
    },
    {
      "cell_type": "code",
      "metadata": {
        "id": "841373cd",
        "colab": {
          "base_uri": "https://localhost:8080/"
        },
        "outputId": "079e9101-ed56-4b57-fa21-4f06e6a59604"
      },
      "source": [
        "n=np.ones((8,8))\n",
        "\n",
        "n[1::2,::2] = 0\n",
        "n[::2,1::2] = 1\n",
        "\n",
      ],
      "id": "841373cd",
      "execution_count": 47,
      "outputs": [
        {
          "output_type": "execute_result",
          "data": {
            "text/plain": [
              "array([[1., 1., 1., 1., 1., 1., 1., 1.],\n",
              "       [0., 1., 0., 1., 0., 1., 0., 1.],\n",
              "       [1., 1., 1., 1., 1., 1., 1., 1.],\n",
              "       [0., 1., 0., 1., 0., 1., 0., 1.],\n",
              "       [1., 1., 1., 1., 1., 1., 1., 1.],\n",
              "       [0., 1., 0., 1., 0., 1., 0., 1.],\n",
              "       [1., 1., 1., 1., 1., 1., 1., 1.],\n",
              "       [0., 1., 0., 1., 0., 1., 0., 1.]])"
            ]
          },
          "metadata": {},
          "execution_count": 47
        }
      ]
    },
    {
      "cell_type": "markdown",
      "metadata": {
        "id": "8837119b"
      },
      "source": [
        "#### 20. Consider a (6,7,8) shape array, what is the index (x,y,z) of the 100th element? (★☆☆)"
      ],
      "id": "8837119b"
    },
    {
      "cell_type": "code",
      "metadata": {
        "id": "2c0d16f1",
        "colab": {
          "base_uri": "https://localhost:8080/"
        },
        "outputId": "7144efc0-f3ab-48c5-b7e1-d9d7ea3fdd45"
      },
      "source": [
        "np.unravel_index(99,(6,7,8))\n",
        "\n",
        "#new_function\n",
        "#np.size()\n",
        "#np.info()\n",
        "#matrix 만들 땐 reshape\n",
        "#np.nonzero()\n",
        "#np.identify()\n",
        "#np.random.rand()\n",
        "#np.pad(array,pad_width,mode,constant_values)\n",
        "#np.diag()\n",
        "#np.unravel_index()"
      ],
      "id": "2c0d16f1",
      "execution_count": 53,
      "outputs": [
        {
          "output_type": "execute_result",
          "data": {
            "text/plain": [
              "(1, 5, 3)"
            ]
          },
          "metadata": {},
          "execution_count": 53
        }
      ]
    },
    {
      "cell_type": "markdown",
      "metadata": {
        "id": "ec788c9f"
      },
      "source": [
        "#### 21. Create a checkerboard 8x8 matrix using the tile function (★☆☆)"
      ],
      "id": "ec788c9f"
    },
    {
      "cell_type": "code",
      "metadata": {
        "colab": {
          "base_uri": "https://localhost:8080/"
        },
        "id": "ZzQMHZpoSHt8",
        "outputId": "d3418106-82cf-4d8f-9df9-e97b357ba0fd"
      },
      "source": [
        "np.tile(np.array([[0,1], [1,0]]), (4,4))\n",
        "\n",
        "#new_function\n",
        "#np.size()\n",
        "#np.info()\n",
        "#matrix 만들 땐 reshape\n",
        "#np.nonzero()\n",
        "#np.identify()\n",
        "#np.random.rand()\n",
        "#np.pad(array,pad_width,mode,constant_values)\n",
        "#np.diag()\n",
        "#np.unravel_index()\n",
        "#np.tile()"
      ],
      "id": "ZzQMHZpoSHt8",
      "execution_count": 58,
      "outputs": [
        {
          "output_type": "execute_result",
          "data": {
            "text/plain": [
              "array([[1, 0, 1, 0, 1, 0, 1, 0],\n",
              "       [1, 0, 1, 0, 1, 0, 1, 0],\n",
              "       [1, 0, 1, 0, 1, 0, 1, 0],\n",
              "       [1, 0, 1, 0, 1, 0, 1, 0],\n",
              "       [1, 0, 1, 0, 1, 0, 1, 0],\n",
              "       [1, 0, 1, 0, 1, 0, 1, 0],\n",
              "       [1, 0, 1, 0, 1, 0, 1, 0],\n",
              "       [1, 0, 1, 0, 1, 0, 1, 0]])"
            ]
          },
          "metadata": {},
          "execution_count": 58
        }
      ]
    },
    {
      "cell_type": "markdown",
      "metadata": {
        "id": "391791e0"
      },
      "source": [
        "#### 22. Normalize a 5x5 random matrix (★☆☆)"
      ],
      "id": "391791e0"
    },
    {
      "cell_type": "code",
      "metadata": {
        "id": "f6533d39",
        "colab": {
          "base_uri": "https://localhost:8080/"
        },
        "outputId": "3c07a6a5-09e6-487f-c7ec-2d1339c86492"
      },
      "source": [
        "Z = np.random.random((5,5))\n",
        "Z = (Z - np.mean(Z)) / (np.std(Z))\n",
        "print(Z)"
      ],
      "id": "f6533d39",
      "execution_count": 59,
      "outputs": [
        {
          "output_type": "stream",
          "name": "stdout",
          "text": [
            "[[ 0.58184144  0.80033549  0.70613663 -1.65776543 -1.6326351 ]\n",
            " [-0.79714618  1.02024089 -1.3675327   0.90999898  0.67929404]\n",
            " [ 0.59913417  0.17379908 -0.84551575 -0.03976891  1.20381547]\n",
            " [-1.45096168  0.58805088  0.46468391 -0.53524852  0.15836421]\n",
            " [ 1.19614034  0.03289969 -1.64057542  1.70146277 -0.8490483 ]]\n"
          ]
        }
      ]
    },
    {
      "cell_type": "markdown",
      "metadata": {
        "id": "1e74d39e"
      },
      "source": [
        "#### 23. Create a custom dtype that describes a color as four unsigned bytes (RGBA) (★☆☆)"
      ],
      "id": "1e74d39e"
    },
    {
      "cell_type": "code",
      "metadata": {
        "id": "3f639d33",
        "colab": {
          "base_uri": "https://localhost:8080/"
        },
        "outputId": "04896870-5af3-4687-f5ce-f2309ad086a9"
      },
      "source": [
        "import numpy as np\n",
        "color = np.dtype([(\"r\", np.ubyte, 1),\n",
        "                  (\"g\", np.ubyte, 1),\n",
        "                  (\"b\", np.ubyte, 1),\n",
        "                  (\"a\", np.ubyte, 1)])\n",
        "print(color)\n",
        "\n",
      ],
      "id": "3f639d33",
      "execution_count": 3,
      "outputs": [
        {
          "output_type": "stream",
          "name": "stdout",
          "text": [
            "[('r', 'u1'), ('g', 'u1'), ('b', 'u1'), ('a', 'u1')]\n"
          ]
        },
        {
          "output_type": "stream",
          "name": "stderr",
          "text": [
            "/usr/local/lib/python3.7/dist-packages/ipykernel_launcher.py:5: FutureWarning: Passing (type, 1) or '1type' as a synonym of type is deprecated; in a future version of numpy, it will be understood as (type, (1,)) / '(1,)type'.\n",
            "  \"\"\"\n"
          ]
        }
      ]
    },
    {
      "cell_type": "markdown",
      "metadata": {
        "id": "78250c14"
      },
      "source": [
        "#### 24. Multiply a 5x3 matrix by a 3x2 matrix (real matrix product) (★☆☆)"
      ],
      "id": "78250c14"
    },
    {
      "cell_type": "code",
      "metadata": {
        "id": "9fe729cb",
        "colab": {
          "base_uri": "https://localhost:8080/"
        },
        "outputId": "054d0764-0b4a-4974-80a2-7a4ff79dcb27"
      },
      "source": [
        "np.dot(np.ones((5,3)),np.ones((3,2)))"
      ],
      "id": "9fe729cb",
      "execution_count": 6,
      "outputs": [
        {
          "output_type": "execute_result",
          "data": {
            "text/plain": [
              "array([[3., 3.],\n",
              "       [3., 3.],\n",
              "       [3., 3.],\n",
              "       [3., 3.],\n",
              "       [3., 3.]])"
            ]
          },
          "metadata": {},
          "execution_count": 6
        }
      ]
    },
    {
      "cell_type": "markdown",
      "metadata": {
        "id": "51898680"
      },
      "source": [
        "#### 25. Given a 1D array, negate all elements which are between 3 and 8, in place. (★☆☆)"
      ],
      "id": "51898680"
    },
    {
      "cell_type": "code",
      "metadata": {
        "id": "51c90f2d",
        "colab": {
          "base_uri": "https://localhost:8080/"
        },
        "outputId": "1cf9be91-b4b4-43f6-9320-7d2af37b14e2"
      },
      "source": [
        "Z = np.arange(11)\n",
        "Z[(3<=Z) & (Z<=8)] *= -1\n",
        "print(Z)"
      ],
      "id": "51c90f2d",
      "execution_count": 7,
      "outputs": [
        {
          "output_type": "stream",
          "name": "stdout",
          "text": [
            "[ 0  1  2 -3 -4 -5 -6 -7 -8  9 10]\n"
          ]
        }
      ]
    },
    {
      "cell_type": "markdown",
      "metadata": {
        "id": "89e78048"
      },
      "source": [
        "#### 26. What is the output of the following script? (★☆☆)\n",
        "```python\n",
        "# Author: Jake VanderPlas\n",
        "\n",
        "print(sum(range(5),-1))\n",
        "from numpy import *\n",
        "print(sum(range(5),-1))\n",
        "```"
      ],
      "id": "89e78048"
    },
    {
      "cell_type": "code",
      "metadata": {
        "id": "b62e9d1c",
        "colab": {
          "base_uri": "https://localhost:8080/"
        },
        "outputId": "39557c29-525a-49e1-ff0c-977eae7fed6e"
      },
      "source": [
        "print(sum(range(5),-1))\n",
        "from numpy import *\n",
        "print(sum(range(5),-1))\n",
        "\n",
        "#sum(범위,시작값)\n",
        "#np.sum(범위,축)\n",
      ],
      "id": "b62e9d1c",
      "execution_count": 8,
      "outputs": [
        {
          "output_type": "stream",
          "name": "stdout",
          "text": [
            "9\n",
            "10\n"
          ]
        }
      ]
    },
    {
      "cell_type": "markdown",
      "metadata": {
        "id": "ebd10810"
      },
      "source": [
        "#### 27. Consider an integer vector Z, which of these expressions are legal? (★☆☆)\n",
        "```python\n",
        "Z**Z\n",
        "2 << Z >> 2\n",
        "Z <- Z\n",
        "1j*Z\n",
        "Z/1/1\n",
        "Z<Z>Z\n",
        "```"
      ],
      "id": "ebd10810"
    },
    {
      "cell_type": "code",
      "metadata": {
        "id": "6ada209f",
        "colab": {
          "base_uri": "https://localhost:8080/"
        },
        "outputId": "9a06812e-1881-4719-e34c-efd1a5208798"
      },
      "source": [
        "Z=np.arange(6)\n",
        "print(Z**Z)\n",
        "print(2 << Z >> 2)\n",
        "print(Z <- Z)\n",
        "print(1j*Z)\n",
        "print(Z/1/1)\n",
        "#Z<Z>Z -> error\n",
        "#print(2 << Z >> 2)\n",
        "#print(1j*Z)\n"
      ],
      "id": "6ada209f",
      "execution_count": 14,
      "outputs": [
        {
          "output_type": "stream",
          "name": "stdout",
          "text": [
            "[   1    1    4   27  256 3125]\n",
            "[ 0  1  2  4  8 16]\n",
            "[False False False False False False]\n",
            "[0.+0.j 0.+1.j 0.+2.j 0.+3.j 0.+4.j 0.+5.j]\n",
            "[0. 1. 2. 3. 4. 5.]\n"
          ]
        }
      ]
    },
    {
      "cell_type": "markdown",
      "metadata": {
        "id": "c0e940f8"
      },
      "source": [
        "#### 28. What are the result of the following expressions? (★☆☆)\n",
        "```python\n",
        "np.array(0) / np.array(0)\n",
        "np.array(0) // np.array(0)\n",
        "np.array([np.nan]).astype(int).astype(float)\n",
        "```"
      ],
      "id": "c0e940f8"
    },
    {
      "cell_type": "code",
      "metadata": {
        "id": "820dc7a5",
        "colab": {
          "base_uri": "https://localhost:8080/"
        },
        "outputId": "a70bb20c-e79e-40ae-97ef-32dda7849a99"
      },
      "source": [
        "print(np.array(0) / np.array(0))\n",
        "print(np.array(0) // np.array(0))\n",
        "print(np.array([np.nan]).astype(int).astype(float))"
      ],
      "id": "820dc7a5",
      "execution_count": 15,
      "outputs": [
        {
          "output_type": "stream",
          "name": "stdout",
          "text": [
            "nan\n",
            "0\n",
            "[-9.22337204e+18]\n"
          ]
        },
        {
          "output_type": "stream",
          "name": "stderr",
          "text": [
            "/usr/local/lib/python3.7/dist-packages/ipykernel_launcher.py:1: RuntimeWarning: invalid value encountered in true_divide\n",
            "  \"\"\"Entry point for launching an IPython kernel.\n",
            "/usr/local/lib/python3.7/dist-packages/ipykernel_launcher.py:2: RuntimeWarning: divide by zero encountered in floor_divide\n",
            "  \n"
          ]
        }
      ]
    },
    {
      "cell_type": "markdown",
      "metadata": {
        "id": "22713c3f"
      },
      "source": [
        "#### 29. How to round away from zero a float array ? (★☆☆)"
      ],
      "id": "22713c3f"
    },
    {
      "cell_type": "code",
      "metadata": {
        "id": "a3e05c29",
        "colab": {
          "base_uri": "https://localhost:8080/"
        },
        "outputId": "d7d91b1f-d338-4a6d-d6a0-c07be787a614"
      },
      "source": [
        "Z=np.random.rand(10)\n",
        "print(np.copysign(np.ceil(np.abs(Z)),Z))\n",
        "\n",
      ],
      "id": "a3e05c29",
      "execution_count": 16,
      "outputs": [
        {
          "output_type": "stream",
          "name": "stdout",
          "text": [
            "[1. 1. 1. 1. 1. 1. 1. 1. 1. 1.]\n"
          ]
        }
      ]
    },
    {
      "cell_type": "markdown",
      "metadata": {
        "id": "f1ae2c2d"
      },
      "source": [
        "#### 30. How to find common values between two arrays? (★☆☆)"
      ],
      "id": "f1ae2c2d"
    },
    {
      "cell_type": "code",
      "metadata": {
        "id": "6801c73d",
        "colab": {
          "base_uri": "https://localhost:8080/"
        },
        "outputId": "81463829-1746-4483-8c3e-36546f20a6a3"
      },
      "source": [
        "Z1 = np.random.randint(0,10,10)\n",
        "Z2 = np.random.randint(0,10,10)\n",
        "print(np.intersect1d(Z1, Z2))\n",
        "\n",
        "#new_function\n",
        "#np.size()\n",
        "#np.info()\n",
        "#matrix 만들 땐 reshape\n",
        "#np.nonzero()\n",
        "#np.identify()\n",
        "#np.random.rand()\n",
        "#np.pad(array,pad_width,mode,constant_values)\n",
        "#np.diag()\n",
        "#np.unravel_index()\n",
        "#np.tile()\n",
        "#np.intersect"
      ],
      "id": "6801c73d",
      "execution_count": 17,
      "outputs": [
        {
          "output_type": "stream",
          "name": "stdout",
          "text": [
            "[0 3 5 7 8 9]\n"
          ]
        }
      ]
    },
    {
      "cell_type": "markdown",
      "metadata": {
        "id": "34a7bdee"
      },
      "source": [
        "#### 31. How to ignore all numpy warnings (not recommended)? (★☆☆)"
      ],
      "id": "34a7bdee"
    },
    {
      "cell_type": "code",
      "metadata": {
        "id": "befc60d1"
      },
      "source": [
        "# Suicide mode on\n",
        "defaults = np.seterr(all=\"ignore\")\n",
        "Z = np.ones(1) / 0\n",
        "\n",
        "# Back to sanity\n",
        "_ = np.seterr(**defaults)\n",
        "\n",
        "# An equivalent way, with a context manager:\n",
        "with np.errstate(divide='ignore'):\n",
        "    Z = np.ones(1) / 0"
      ],
      "id": "befc60d1",
      "execution_count": 18,
      "outputs": []
    },
    {
      "cell_type": "markdown",
      "metadata": {
        "id": "37bc0973"
      },
      "source": [
        "#### 32. Is the following expressions true? (★☆☆)\n",
        "```python\n",
        "np.sqrt(-1) == np.emath.sqrt(-1)\n",
        "```"
      ],
      "id": "37bc0973"
    },
    {
      "cell_type": "code",
      "metadata": {
        "id": "c70cbabe",
        "colab": {
          "base_uri": "https://localhost:8080/"
        },
        "outputId": "17293f47-1f18-4909-9a63-31fe25be3111"
      },
      "source": [
        "np.sqrt(-1) == np.emath.sqrt(-1)\n",
        "\n",
      ],
      "id": "c70cbabe",
      "execution_count": 19,
      "outputs": [
        {
          "output_type": "stream",
          "name": "stderr",
          "text": [
            "/usr/local/lib/python3.7/dist-packages/ipykernel_launcher.py:1: RuntimeWarning: invalid value encountered in sqrt\n",
            "  \"\"\"Entry point for launching an IPython kernel.\n"
          ]
        },
        {
          "output_type": "execute_result",
          "data": {
            "text/plain": [
              "False"
            ]
          },
          "metadata": {},
          "execution_count": 19
        }
      ]
    },
    {
      "cell_type": "markdown",
      "metadata": {
        "id": "129c342d"
      },
      "source": [
        "#### 33. How to get the dates of yesterday, today and tomorrow? (★☆☆)"
      ],
      "id": "129c342d"
    },
    {
      "cell_type": "code",
      "metadata": {
        "id": "8ba1badb",
        "colab": {
          "base_uri": "https://localhost:8080/"
        },
        "outputId": "54a87fbc-77db-4081-9023-0560fe12db04"
      },
      "source": [
        "print(np.datetime64('today','D'))\n",
        "print(np.datetime64('today','D')-np.timedelta64(1,'D'))\n",
        "print(np.datetime64('today','D')+np.timedelta64(1,'D'))\n",
        "\n",
        "#new_function\n",
        "#np.size()\n",
        "#np.info()\n",
        "#matrix 만들 땐 reshape\n",
        "#np.nonzero()\n",
        "#np.identify()\n",
        "#np.random.rand()\n",
        "#np.pad(array,pad_width,mode,constant_values)\n",
        "#np.diag()\n",
        "#np.unravel_index()\n",
        "#np.tile()\n",
        "#np.intersect\n",
        "#np.datetime64 & np.timdelta"
      ],
      "id": "8ba1badb",
      "execution_count": 24,
      "outputs": [
        {
          "output_type": "stream",
          "name": "stdout",
          "text": [
            "2021-09-16\n",
            "2021-09-15\n",
            "2021-09-17\n"
          ]
        }
      ]
    },
    {
      "cell_type": "markdown",
      "metadata": {
        "id": "42f8b2f9"
      },
      "source": [
        "#### 34. How to get all the dates corresponding to the month of July 2016? (★★☆)"
      ],
      "id": "42f8b2f9"
    },
    {
      "cell_type": "code",
      "metadata": {
        "id": "eb8ebe45",
        "colab": {
          "base_uri": "https://localhost:8080/"
        },
        "outputId": "d31245c0-976f-45d8-98bd-c35b7ab01a35"
      },
      "source": [
        "Z = np.arange('2016-07', '2016-08', dtype='datetime64[D]')\n",
        "print(Z)"
      ],
      "id": "eb8ebe45",
      "execution_count": 25,
      "outputs": [
        {
          "output_type": "stream",
          "name": "stdout",
          "text": [
            "['2016-07-01' '2016-07-02' '2016-07-03' '2016-07-04' '2016-07-05'\n",
            " '2016-07-06' '2016-07-07' '2016-07-08' '2016-07-09' '2016-07-10'\n",
            " '2016-07-11' '2016-07-12' '2016-07-13' '2016-07-14' '2016-07-15'\n",
            " '2016-07-16' '2016-07-17' '2016-07-18' '2016-07-19' '2016-07-20'\n",
            " '2016-07-21' '2016-07-22' '2016-07-23' '2016-07-24' '2016-07-25'\n",
            " '2016-07-26' '2016-07-27' '2016-07-28' '2016-07-29' '2016-07-30'\n",
            " '2016-07-31']\n"
          ]
        }
      ]
    },
    {
      "cell_type": "markdown",
      "metadata": {
        "id": "252c43e2"
      },
      "source": [
        "#### 35. How to compute ((A+B)*(-A/2)) in place (without copy)? (★★☆)"
      ],
      "id": "252c43e2"
    },
    {
      "cell_type": "code",
      "metadata": {
        "id": "f06ff615",
        "colab": {
          "base_uri": "https://localhost:8080/"
        },
        "outputId": "45b17fe5-f057-4ecb-8400-7e442f461c39"
      },
      "source": [
        "A = np.ones(5)*1\n",
        "B = np.ones(5)*3\n",
        "C = np.ones(5)*2\n",
        "np.add(A,B,out=B)\n",
        "np.negative(A,out=A)\n",
        "np.divide(A,2,out=A)\n",
        "np.multiply(A,B,out=A)\n",
        "\n",
        "#new_function\n",
        "#np.size()\n",
        "#np.info()\n",
        "#matrix 만들 땐 reshape\n",
        "#np.nonzero()\n",
        "#np.identify()\n",
        "#np.random.rand()\n",
        "#np.pad(array,pad_width,mode,constant_values)\n",
        "#np.diag()\n",
        "#np.unravel_index()\n",
        "#np.tile()\n",
        "#np.intersect\n",
        "#np.datetime64 & np.timdelta\n",
        "#np.add & negative & devide & multiply"
      ],
      "id": "f06ff615",
      "execution_count": 26,
      "outputs": [
        {
          "output_type": "execute_result",
          "data": {
            "text/plain": [
              "array([-2., -2., -2., -2., -2.])"
            ]
          },
          "metadata": {},
          "execution_count": 26
        }
      ]
    },
    {
      "cell_type": "markdown",
      "metadata": {
        "id": "486df8ea"
      },
      "source": [
        "#### 36. Extract the integer part of a random array of positive numbers using 4 different methods (★★☆)"
      ],
      "id": "486df8ea"
    },
    {
      "cell_type": "code",
      "metadata": {
        "id": "34b4fa08",
        "colab": {
          "base_uri": "https://localhost:8080/"
        },
        "outputId": "92f5677e-6671-4b03-f02c-ddc82c1cd433"
      },
      "source": [
        "Z = np.random.uniform(0,10,10)\n",
        "print(Z)\n",
        "\n",
        "print(Z - Z%1)\n",
        "print(np.floor(Z))\n",
        "print(np.ceil(Z) - 1)\n",
        "print(Z.astype(int))\n",
        "print(np.trunc(Z))"
      ],
      "id": "34b4fa08",
      "execution_count": 27,
      "outputs": [
        {
          "output_type": "stream",
          "name": "stdout",
          "text": [
            "[4.74346848 0.35465049 0.27409432 5.58135279 4.3872806  3.43498452\n",
            " 4.28160971 8.84445605 9.43105068 2.10108931]\n",
            "[4. 0. 0. 5. 4. 3. 4. 8. 9. 2.]\n",
            "[4. 0. 0. 5. 4. 3. 4. 8. 9. 2.]\n",
            "[4. 0. 0. 5. 4. 3. 4. 8. 9. 2.]\n",
            "[4 0 0 5 4 3 4 8 9 2]\n",
            "[4. 0. 0. 5. 4. 3. 4. 8. 9. 2.]\n"
          ]
        }
      ]
    },
    {
      "cell_type": "markdown",
      "metadata": {
        "id": "649e89f9"
      },
      "source": [
        "#### 37. Create a 5x5 matrix with row values ranging from 0 to 4 (★★☆)"
      ],
      "id": "649e89f9"
    },
    {
      "cell_type": "code",
      "metadata": {
        "id": "663cc611",
        "colab": {
          "base_uri": "https://localhost:8080/"
        },
        "outputId": "39fe22d2-8764-48f4-a6aa-8f185696c3be"
      },
      "source": [
        "Z = np.arange(5)\n",
        "print(Z)\n",
        "\n",
      ],
      "id": "663cc611",
      "execution_count": 32,
      "outputs": [
        {
          "output_type": "stream",
          "name": "stdout",
          "text": [
            "[0 2 4 6 8]\n"
          ]
        }
      ]
    },
    {
      "cell_type": "markdown",
      "metadata": {
        "id": "3421e17f"
      },
      "source": [
        "#### 38. Consider a generator function that generates 10 integers and use it to build an array (★☆☆)"
      ],
      "id": "3421e17f"
    },
    {
      "cell_type": "code",
      "metadata": {
        "id": "7336b8e4"
      },
      "source": [
        "def generate():\n",
        "  for x in range(10):\n",
        "    yield x"
      ],
      "id": "7336b8e4",
      "execution_count": 33,
      "outputs": []
    },
    {
      "cell_type": "markdown",
      "metadata": {
        "id": "483dd554"
      },
      "source": [
        "#### 39. Create a vector of size 10 with values ranging from 0 to 1, both excluded (★★☆)"
      ],
      "id": "483dd554"
    },
    {
      "cell_type": "code",
      "metadata": {
        "id": "c89b93e7"
      },
      "source": [
        "np.linspace(0,1,11)\n",
        "\n",
        "#new_function\n",
        "#np.size()\n",
        "#np.info()\n",
        "#matrix 만들 땐 reshape\n",
        "#np.nonzero()\n",
        "#np.identify()\n",
        "#np.random.rand()\n",
        "#np.pad(array,pad_width,mode,constant_values)\n",
        "#np.diag()\n",
        "#np.unravel_index()\n",
        "#np.tile()\n",
        "#np.intersect\n",
        "#np.datetime64 & np.timdelta\n",
        "#np.add & negative & devide & multiply\n",
        "#np.linespace\n"
      ],
      "id": "c89b93e7",
      "execution_count": null,
      "outputs": []
    },
    {
      "cell_type": "markdown",
      "metadata": {
        "id": "2d07be1c"
      },
      "source": [
        "#### 40. Create a random vector of size 10 and sort it (★★☆)"
      ],
      "id": "2d07be1c"
    },
    {
      "cell_type": "code",
      "metadata": {
        "id": "4f7cb3ad",
        "colab": {
          "base_uri": "https://localhost:8080/"
        },
        "outputId": "c9196716-d756-4c32-91e5-29150bec0eb9"
      },
      "source": [
        "Z = np.random.random(10)\n",
        "Z.sort()\n",
        "print(Z)"
      ],
      "id": "4f7cb3ad",
      "execution_count": 34,
      "outputs": [
        {
          "output_type": "stream",
          "name": "stdout",
          "text": [
            "[0.20419393 0.35226032 0.36618171 0.37916835 0.53917821 0.55940179\n",
            " 0.64374129 0.68878521 0.77403062 0.97353741]\n"
          ]
        }
      ]
    },
    {
      "cell_type": "markdown",
      "metadata": {
        "id": "6415f02e"
      },
      "source": [
        "#### 41. How to sum a small array faster than np.sum? (★★☆)"
      ],
      "id": "6415f02e"
    },
    {
      "cell_type": "code",
      "metadata": {
        "id": "bb0dd942"
      },
      "source": [
        "#np.add이용"
      ],
      "id": "bb0dd942",
      "execution_count": null,
      "outputs": []
    },
    {
      "cell_type": "markdown",
      "metadata": {
        "id": "fe043549"
      },
      "source": [
        "#### 42. Consider two random array A and B, check if they are equal (★★☆)"
      ],
      "id": "fe043549"
    },
    {
      "cell_type": "code",
      "metadata": {
        "id": "3326a686",
        "colab": {
          "base_uri": "https://localhost:8080/"
        },
        "outputId": "9c923cf0-0931-47f5-dc9a-f6214ab7b9bd"
      },
      "source": [
        "A = np.random.randint(0,2,5)\n",
        "B = np.random.randint(0,2,5)\n",
        "\n",
        "print(A)\n",
        "print(B)\n",
        "\n",
        "equal = np.allclose(A,B)\n",
        "print(equal)\n",
        "\n",
        "#new_function\n",
        "#np.size()\n",
        "#np.info()\n",
        "#matrix 만들 땐 reshape\n",
        "#np.nonzero()\n",
        "#np.identify()\n",
        "#np.random.rand()\n",
        "#np.pad(array,pad_width,mode,constant_values)\n",
        "#np.diag()\n",
        "#np.unravel_index()\n",
        "#np.tile()\n",
        "#np.intersect\n",
        "#np.datetime64 & np.timdelta\n",
        "#np.add & negative & devide & multiply\n",
        "#np.linespace\n",
        "#np.allclose & np.array_equal\n",
        "\n"
      ],
      "id": "3326a686",
      "execution_count": 35,
      "outputs": [
        {
          "output_type": "stream",
          "name": "stdout",
          "text": [
            "[0 0 1 1 0]\n",
            "[1 0 1 0 0]\n",
            "False\n"
          ]
        }
      ]
    },
    {
      "cell_type": "markdown",
      "metadata": {
        "id": "cc08f71c"
      },
      "source": [
        "#### 43. Make an array immutable (read-only) (★★☆)"
      ],
      "id": "cc08f71c"
    },
    {
      "cell_type": "code",
      "metadata": {
        "id": "d5cc9dbe",
        "colab": {
          "base_uri": "https://localhost:8080/",
          "height": 239
        },
        "outputId": "55b47629-4926-4adc-9c7e-56cf7b71c46d"
      },
      "source": [
        "\n",
        "Z = np.zeros(10)\n",
        "Z.flags.writeable = False\n",
        "Z[0] = 1\n",
        "\n",
        "#!!!!!!!!!!"
      ],
      "id": "d5cc9dbe",
      "execution_count": 22,
      "outputs": [
        {
          "output_type": "error",
          "ename": "ValueError",
          "evalue": "ignored",
          "traceback": [
            "\u001b[0;31m---------------------------------------------------------------------------\u001b[0m",
            "\u001b[0;31mValueError\u001b[0m                                Traceback (most recent call last)",
            "\u001b[0;32m<ipython-input-22-5041d92fb805>\u001b[0m in \u001b[0;36m<module>\u001b[0;34m()\u001b[0m\n\u001b[1;32m      2\u001b[0m \u001b[0mZ\u001b[0m \u001b[0;34m=\u001b[0m \u001b[0mnp\u001b[0m\u001b[0;34m.\u001b[0m\u001b[0mzeros\u001b[0m\u001b[0;34m(\u001b[0m\u001b[0;36m10\u001b[0m\u001b[0;34m)\u001b[0m\u001b[0;34m\u001b[0m\u001b[0;34m\u001b[0m\u001b[0m\n\u001b[1;32m      3\u001b[0m \u001b[0mZ\u001b[0m\u001b[0;34m.\u001b[0m\u001b[0mflags\u001b[0m\u001b[0;34m.\u001b[0m\u001b[0mwriteable\u001b[0m \u001b[0;34m=\u001b[0m \u001b[0;32mFalse\u001b[0m\u001b[0;34m\u001b[0m\u001b[0;34m\u001b[0m\u001b[0m\n\u001b[0;32m----> 4\u001b[0;31m \u001b[0mZ\u001b[0m\u001b[0;34m[\u001b[0m\u001b[0;36m0\u001b[0m\u001b[0;34m]\u001b[0m \u001b[0;34m=\u001b[0m \u001b[0;36m1\u001b[0m\u001b[0;34m\u001b[0m\u001b[0;34m\u001b[0m\u001b[0m\n\u001b[0m\u001b[1;32m      5\u001b[0m \u001b[0;34m\u001b[0m\u001b[0m\n\u001b[1;32m      6\u001b[0m \u001b[0;31m#!!!!!!!!!!\u001b[0m\u001b[0;34m\u001b[0m\u001b[0;34m\u001b[0m\u001b[0;34m\u001b[0m\u001b[0m\n",
            "\u001b[0;31mValueError\u001b[0m: assignment destination is read-only"
          ]
        }
      ]
    },
    {
      "cell_type": "markdown",
      "metadata": {
        "id": "2002cb03"
      },
      "source": [
        "#### 44. Consider a random 10x2 matrix representing cartesian coordinates, convert them to polar coordinates (★★☆)"
      ],
      "id": "2002cb03"
    },
    {
      "cell_type": "code",
      "metadata": {
        "id": "58be72bc",
        "colab": {
          "base_uri": "https://localhost:8080/"
        },
        "outputId": "9eab8746-605b-4ce3-ad97-ae1d68b22f70"
      },
      "source": [
        "Z = np.random.random((10,2))\n",
        "print(Z)\n",
        "X, Y = Z[:,0], Z[:,1]\n",
        "R = np.sqrt(X**2+Y**2)\n",
        "T = np.arctan2(Y,X)\n",
        "print(R)\n",
        "print(T)\n",
        "\n",
      ],
      "id": "58be72bc",
      "execution_count": 37,
      "outputs": [
        {
          "output_type": "stream",
          "name": "stdout",
          "text": [
            "[[0.72654587 0.86877598]\n",
            " [0.03689188 0.10097121]\n",
            " [0.84780797 0.97646011]\n",
            " [0.72308982 0.93990297]\n",
            " [0.93415207 0.52283213]\n",
            " [0.43414158 0.871888  ]\n",
            " [0.59872861 0.1453999 ]\n",
            " [0.31500771 0.76425503]\n",
            " [0.67748079 0.54144687]\n",
            " [0.76852046 0.58488831]]\n",
            "[1.13253724 0.10749975 1.29315611 1.18586529 1.07051087 0.97399568\n",
            " 0.61613073 0.82662907 0.8672629  0.96577328]\n",
            "[0.87431756 1.2204948  0.8558042  0.91504219 0.51024949 1.1088039\n",
            " 0.2382359  1.17983752 0.67425674 0.65054047]\n"
          ]
        }
      ]
    },
    {
      "cell_type": "markdown",
      "metadata": {
        "id": "b7109c9f"
      },
      "source": [
        "#### 45. Create random vector of size 10 and replace the maximum value by 0 (★★☆)"
      ],
      "id": "b7109c9f"
    },
    {
      "cell_type": "code",
      "metadata": {
        "id": "f79e79a7",
        "colab": {
          "base_uri": "https://localhost:8080/"
        },
        "outputId": "f65510bd-592a-4fd6-a427-b467be63bd63"
      },
      "source": [
        "Z = np.random.random(10)\n",
        "print(Z)\n",
        "\n",
        "np.max(Z)\n",
        "Z[Z.argmax()]=0\n",
        "\n",
        "#new_function\n",
        "#np.size()\n",
        "#np.info()\n",
        "#matrix 만들 땐 reshape\n",
        "#np.nonzero()\n",
        "#np.identify()\n",
        "#np.random.rand()\n",
        "#np.pad(array,pad_width,mode,constant_values)\n",
        "#np.diag()\n",
        "#np.unravel_index()\n",
        "#np.tile()\n",
        "#np.intersect\n",
        "#np.datetime64 & np.timdelta\n",
        "#np.add & negative & devide & multiply\n",
        "#np.linespace\n",
        "#np.allclose & np.array_equal\n",
        "#array.argmax"
      ],
      "id": "f79e79a7",
      "execution_count": 43,
      "outputs": [
        {
          "output_type": "stream",
          "name": "stdout",
          "text": [
            "[0.027153   0.31094836 0.47837853 0.22866478 0.46496787 0.4137963\n",
            " 0.40643218 0.14422584 0.02233869 0.12312612]\n"
          ]
        },
        {
          "output_type": "execute_result",
          "data": {
            "text/plain": [
              "0.4783785322960066"
            ]
          },
          "metadata": {},
          "execution_count": 43
        }
      ]
    },
    {
      "cell_type": "markdown",
      "metadata": {
        "id": "7d3131b9"
      },
      "source": [
        "#### 46. Create a structured array with `x` and `y` coordinates covering the [0,1]x[0,1] area (★★☆)"
      ],
      "id": "7d3131b9"
    },
    {
      "cell_type": "code",
      "metadata": {
        "id": "4f471afe",
        "colab": {
          "base_uri": "https://localhost:8080/"
        },
        "outputId": "5a578bc0-1bbf-4a31-a567-cbd15b0b2deb"
      },
      "source": [
        "import numpy as np\n",
        "\n",
        "Z = np.zeros((5,5))\n",
        "print(Z)\n",
        "\n",
        "Z = np.zeros((5,5), [('x', float), ('y', float)])\n",
        "print(Z)"
      ],
      "id": "4f471afe",
      "execution_count": 2,
      "outputs": [
        {
          "output_type": "stream",
          "name": "stdout",
          "text": [
            "[[0. 0. 0. 0. 0.]\n",
            " [0. 0. 0. 0. 0.]\n",
            " [0. 0. 0. 0. 0.]\n",
            " [0. 0. 0. 0. 0.]\n",
            " [0. 0. 0. 0. 0.]]\n",
            "[[(0., 0.) (0., 0.) (0., 0.) (0., 0.) (0., 0.)]\n",
            " [(0., 0.) (0., 0.) (0., 0.) (0., 0.) (0., 0.)]\n",
            " [(0., 0.) (0., 0.) (0., 0.) (0., 0.) (0., 0.)]\n",
            " [(0., 0.) (0., 0.) (0., 0.) (0., 0.) (0., 0.)]\n",
            " [(0., 0.) (0., 0.) (0., 0.) (0., 0.) (0., 0.)]]\n"
          ]
        }
      ]
    },
    {
      "cell_type": "markdown",
      "metadata": {
        "id": "7c8c1fc5"
      },
      "source": [
        "#### 47. Given two arrays, X and Y, construct the Cauchy matrix C (Cij =1/(xi - yj)) (★★☆)"
      ],
      "id": "7c8c1fc5"
    },
    {
      "cell_type": "code",
      "metadata": {
        "id": "8fac7d28",
        "colab": {
          "base_uri": "https://localhost:8080/"
        },
        "outputId": "436e39cb-1843-45d1-9981-275426edd7ed"
      },
      "source": [
        "X = np.arange(8)\n",
        "print(X)\n",
        "\n",
        "Y = X + 0.5\n",
        "print(Y)\n",
        "\n",
        "np.subtract.outer(X, Y)\n",
        "\n",
        "C = 1.0 / np.subtract.outer(X, Y)\n",
        "print(C)\n",
        "\n",
        "print(np.linalg.det(C))"
      ],
      "id": "8fac7d28",
      "execution_count": 3,
      "outputs": [
        {
          "output_type": "stream",
          "name": "stdout",
          "text": [
            "[0 1 2 3 4 5 6 7]\n",
            "[0.5 1.5 2.5 3.5 4.5 5.5 6.5 7.5]\n",
            "[[-2.         -0.66666667 -0.4        -0.28571429 -0.22222222 -0.18181818\n",
            "  -0.15384615 -0.13333333]\n",
            " [ 2.         -2.         -0.66666667 -0.4        -0.28571429 -0.22222222\n",
            "  -0.18181818 -0.15384615]\n",
            " [ 0.66666667  2.         -2.         -0.66666667 -0.4        -0.28571429\n",
            "  -0.22222222 -0.18181818]\n",
            " [ 0.4         0.66666667  2.         -2.         -0.66666667 -0.4\n",
            "  -0.28571429 -0.22222222]\n",
            " [ 0.28571429  0.4         0.66666667  2.         -2.         -0.66666667\n",
            "  -0.4        -0.28571429]\n",
            " [ 0.22222222  0.28571429  0.4         0.66666667  2.         -2.\n",
            "  -0.66666667 -0.4       ]\n",
            " [ 0.18181818  0.22222222  0.28571429  0.4         0.66666667  2.\n",
            "  -2.         -0.66666667]\n",
            " [ 0.15384615  0.18181818  0.22222222  0.28571429  0.4         0.66666667\n",
            "   2.         -2.        ]]\n",
            "3638.1636371179666\n"
          ]
        }
      ]
    },
    {
      "cell_type": "markdown",
      "metadata": {
        "id": "5795b4bd"
      },
      "source": [
        "#### 48. Print the minimum and maximum representable value for each numpy scalar type (★★☆)"
      ],
      "id": "5795b4bd"
    },
    {
      "cell_type": "code",
      "metadata": {
        "id": "b721f7ca",
        "colab": {
          "base_uri": "https://localhost:8080/"
        },
        "outputId": "9e6147d7-a927-4f10-82d4-979a72c35dbd"
      },
      "source": [
        "for dtype in [np.int8, np.int32, np.int64]:\n",
        "   print(np.iinfo(dtype).min)\n",
        "   print(np.iinfo(dtype).max)\n",
        "for dtype in [np.float32, np.float64]:\n",
        "   print(np.finfo(dtype).min)\n",
        "   print(np.finfo(dtype).max)\n",
        "   print(np.finfo(dtype).eps)\n",
        "\n",
        "#new_function\n",
        "#np.size()\n",
        "#np.info()\n",
        "#matrix 만들 땐 reshape\n",
        "#np.nonzero()\n",
        "#np.identify()\n",
        "#np.random.rand()\n",
        "#np.pad(array,pad_width,mode,constant_values)\n",
        "#np.diag()\n",
        "#np.unravel_index()\n",
        "#np.tile()\n",
        "#np.intersect\n",
        "#np.datetime64 & np.timdelta\n",
        "#np.add & negative & devide & multiply\n",
        "#np.linespace\n",
        "#np.allclose & np.array_equal\n",
        "#array.argmax\n",
        "#np.finfo().min/max/eps & np.iinfo().min/max VVV"
      ],
      "id": "b721f7ca",
      "execution_count": 4,
      "outputs": [
        {
          "output_type": "stream",
          "name": "stdout",
          "text": [
            "-128\n",
            "127\n",
            "-2147483648\n",
            "2147483647\n",
            "-9223372036854775808\n",
            "9223372036854775807\n",
            "-3.4028235e+38\n",
            "3.4028235e+38\n",
            "1.1920929e-07\n",
            "-1.7976931348623157e+308\n",
            "1.7976931348623157e+308\n",
            "2.220446049250313e-16\n"
          ]
        }
      ]
    },
    {
      "cell_type": "markdown",
      "metadata": {
        "id": "fb24674c"
      },
      "source": [
        "#### 49. How to print all the values of an array? (★★☆)"
      ],
      "id": "fb24674c"
    },
    {
      "cell_type": "code",
      "metadata": {
        "id": "c81f1456",
        "colab": {
          "base_uri": "https://localhost:8080/"
        },
        "outputId": "ec76bffd-7d0b-40ce-9ef5-72001395eab8"
      },
      "source": [
        "Z = np.zeros((6,6))\n",
        "print(Z)"
      ],
      "id": "c81f1456",
      "execution_count": 21,
      "outputs": [
        {
          "output_type": "stream",
          "name": "stdout",
          "text": [
            "[[0. 0. 0. 0. 0. 0.]\n",
            " [0. 0. 0. 0. 0. 0.]\n",
            " [0. 0. 0. 0. 0. 0.]\n",
            " [0. 0. 0. 0. 0. 0.]\n",
            " [0. 0. 0. 0. 0. 0.]\n",
            " [0. 0. 0. 0. 0. 0.]]\n"
          ]
        }
      ]
    },
    {
      "cell_type": "markdown",
      "metadata": {
        "id": "e6e1ae2f"
      },
      "source": [
        "#### 50. How to find the closest value (to a given scalar) in a vector? (★★☆)"
      ],
      "id": "e6e1ae2f"
    },
    {
      "cell_type": "code",
      "metadata": {
        "id": "73dd91cc"
      },
      "source": [
        "index = (np.abs(Z-v)).argmin()\n",
        "print(index)\n",
        "\n",
      ],
      "id": "73dd91cc",
      "execution_count": null,
      "outputs": []
    },
    {
      "cell_type": "markdown",
      "metadata": {
        "id": "c01f0ecf"
      },
      "source": [
        "#### 51. Create a structured array representing a position (x,y) and a color (r,g,b) (★★☆)"
      ],
      "id": "c01f0ecf"
    },
    {
      "cell_type": "code",
      "metadata": {
        "id": "fb8017ca",
        "colab": {
          "base_uri": "https://localhost:8080/"
        },
        "outputId": "5bfdeded-8dd7-431a-d190-40693b673a4e"
      },
      "source": [
        "import numpy as np\n",
        "\n",
        "position = ('position', [('x', float), ('y', float)])\n",
        "color = ('color', [('r', float), ('g', float), ('b', float)])\n",
        "Z = np.zeros(10, [position, color])\n",
        "print(Z)"
      ],
      "id": "fb8017ca",
      "execution_count": 2,
      "outputs": [
        {
          "output_type": "stream",
          "name": "stdout",
          "text": [
            "[((0., 0.), (0., 0., 0.)) ((0., 0.), (0., 0., 0.))\n",
            " ((0., 0.), (0., 0., 0.)) ((0., 0.), (0., 0., 0.))\n",
            " ((0., 0.), (0., 0., 0.)) ((0., 0.), (0., 0., 0.))\n",
            " ((0., 0.), (0., 0., 0.)) ((0., 0.), (0., 0., 0.))\n",
            " ((0., 0.), (0., 0., 0.)) ((0., 0.), (0., 0., 0.))]\n"
          ]
        }
      ]
    },
    {
      "cell_type": "markdown",
      "metadata": {
        "id": "3b64a18b"
      },
      "source": [
        "#### 52. Consider a random vector with shape (100,2) representing coordinates, find point by point distances (★★☆)"
      ],
      "id": "3b64a18b"
    },
    {
      "cell_type": "code",
      "metadata": {
        "id": "4b482822",
        "colab": {
          "base_uri": "https://localhost:8080/"
        },
        "outputId": "ab6d76c3-e630-49f0-9459-ca97857c8d3c"
      },
      "source": [
        "Z = np.random.random((10, 2))\n",
        "print(Z)\n",
        "\n",
        "X, Y = np.atleast_2d(Z[:, 0], Z[:, 1])\n",
        "print(X, Y)\n",
        "\n",
        "D = np.sqrt((X-X.T)**2 + (Y-Y.T)**2)\n",
        "print(D)"
      ],
      "id": "4b482822",
      "execution_count": 3,
      "outputs": [
        {
          "output_type": "stream",
          "name": "stdout",
          "text": [
            "[[0.89822559 0.47122021]\n",
            " [0.14087754 0.25870132]\n",
            " [0.34813729 0.57360714]\n",
            " [0.12082917 0.66529997]\n",
            " [0.26802017 0.08326955]\n",
            " [0.40420499 0.69637485]\n",
            " [0.02573744 0.92464588]\n",
            " [0.09693009 0.6679374 ]\n",
            " [0.44174539 0.66836244]\n",
            " [0.19878629 0.32533986]]\n",
            "[[0.89822559 0.14087754 0.34813729 0.12082917 0.26802017 0.40420499\n",
            "  0.02573744 0.09693009 0.44174539 0.19878629]] [[0.47122021 0.25870132 0.57360714 0.66529997 0.08326955 0.69637485\n",
            "  0.92464588 0.6679374  0.66836244 0.32533986]]\n",
            "[[0.         0.7866005  0.55953572 0.80125661 0.74004364 0.54290973\n",
            "  0.98327535 0.82508917 0.49723158 0.71449032]\n",
            " [0.7866005  0.         0.37699109 0.40709262 0.21665999 0.51078319\n",
            "  0.67582498 0.41158905 0.50827522 0.0882843 ]\n",
            " [0.55953572 0.37699109 0.         0.2451052  0.49683972 0.1349648\n",
            "  0.4766234  0.26833422 0.13319551 0.28972808]\n",
            " [0.80125661 0.40709262 0.2451052  0.         0.60035373 0.28507456\n",
            "  0.2762295  0.02404417 0.32093083 0.34878388]\n",
            " [0.74004364 0.21665999 0.49683972 0.60035373 0.         0.6280481\n",
            "  0.87556556 0.60918659 0.61033937 0.25177642]\n",
            " [0.54290973 0.51078319 0.1349648  0.28507456 0.6280481  0.\n",
            "  0.4419789  0.308588   0.0468399  0.42410353]\n",
            " [0.98327535 0.67582498 0.4766234  0.2762295  0.87556556 0.4419789\n",
            "  0.         0.26639753 0.48861418 0.62378972]\n",
            " [0.82508917 0.41158905 0.26833422 0.02404417 0.60918659 0.308588\n",
            "  0.26639753 0.         0.34481556 0.35741818]\n",
            " [0.49723158 0.50827522 0.13319551 0.32093083 0.61033937 0.0468399\n",
            "  0.48861418 0.34481556 0.         0.4203494 ]\n",
            " [0.71449032 0.0882843  0.28972808 0.34878388 0.25177642 0.42410353\n",
            "  0.62378972 0.35741818 0.4203494  0.        ]]\n"
          ]
        }
      ]
    },
    {
      "cell_type": "markdown",
      "metadata": {
        "id": "48413134"
      },
      "source": [
        "#### 53. How to convert a float (32 bits) array into an integer (32 bits) in place?"
      ],
      "id": "48413134"
    },
    {
      "cell_type": "code",
      "metadata": {
        "id": "5db64b6d",
        "colab": {
          "base_uri": "https://localhost:8080/"
        },
        "outputId": "1a6d2849-4802-451a-9b94-b2b0abbfe3ad"
      },
      "source": [
        "Z = np.arange(10, dtype=np.float32)\n",
        "Z = Z.astype(np.int32, copy=False)\n",
        "print(X)"
      ],
      "id": "5db64b6d",
      "execution_count": 4,
      "outputs": [
        {
          "output_type": "stream",
          "name": "stdout",
          "text": [
            "[[0.89822559 0.14087754 0.34813729 0.12082917 0.26802017 0.40420499\n",
            "  0.02573744 0.09693009 0.44174539 0.19878629]]\n"
          ]
        }
      ]
    },
    {
      "cell_type": "markdown",
      "metadata": {
        "id": "0a532633"
      },
      "source": [
        "#### 54. How to read the following file? (★★☆)\n",
        "```\n",
        "1, 2, 3, 4, 5\n",
        "6,  ,  , 7, 8\n",
        " ,  , 9,10,11\n",
        "```"
      ],
      "id": "0a532633"
    },
    {
      "cell_type": "code",
      "metadata": {
        "id": "8af4f753"
      },
      "source": [
        "#from io import StringIO\n",
        "\n",
        "# Fake file \n",
        "#s = StringIO(\"\"\"1, 2, 3, 4, 5\\n\n",
        "                6,  ,  , 7, 8\\n\n",
        "                 ,  , 9,10,11\\n\"\"\")\n",
        "#Z = np.genfromtxt(s, delimiter=\",\", dtype=np.int)\n",
        "#print(Z)"
      ],
      "id": "8af4f753",
      "execution_count": null,
      "outputs": []
    },
    {
      "cell_type": "markdown",
      "metadata": {
        "id": "f98713a6"
      },
      "source": [
        "#### 55. What is the equivalent of enumerate for numpy arrays? (★★☆)"
      ],
      "id": "f98713a6"
    },
    {
      "cell_type": "code",
      "metadata": {
        "id": "64795f84",
        "colab": {
          "base_uri": "https://localhost:8080/"
        },
        "outputId": "2cef1681-b742-4e15-eb06-40517f6f20b8"
      },
      "source": [
        "Z = np.arange(9).reshape(3,3)\n",
        "print(Z)\n",
        "\n",
        "for index, value in np.ndenumerate(Z):\n",
        "    print(index, value)\n",
        "\n",
        "for index in np.ndindex(Z.shape):\n",
        "    print(index, Z[index])"
      ],
      "id": "64795f84",
      "execution_count": 6,
      "outputs": [
        {
          "output_type": "stream",
          "name": "stdout",
          "text": [
            "[[0 1 2]\n",
            " [3 4 5]\n",
            " [6 7 8]]\n",
            "(0, 0) 0\n",
            "(0, 1) 1\n",
            "(0, 2) 2\n",
            "(1, 0) 3\n",
            "(1, 1) 4\n",
            "(1, 2) 5\n",
            "(2, 0) 6\n",
            "(2, 1) 7\n",
            "(2, 2) 8\n",
            "(0, 0) 0\n",
            "(0, 1) 1\n",
            "(0, 2) 2\n",
            "(1, 0) 3\n",
            "(1, 1) 4\n",
            "(1, 2) 5\n",
            "(2, 0) 6\n",
            "(2, 1) 7\n",
            "(2, 2) 8\n"
          ]
        }
      ]
    },
    {
      "cell_type": "markdown",
      "metadata": {
        "id": "1abc7cc8"
      },
      "source": [
        "#### 56. Generate a generic 2D Gaussian-like array (★★☆)"
      ],
      "id": "1abc7cc8"
    },
    {
      "cell_type": "code",
      "metadata": {
        "id": "42e3a5bc",
        "colab": {
          "base_uri": "https://localhost:8080/"
        },
        "outputId": "aa7f1d4c-d7b4-414a-9eba-7ed85f24a5b3"
      },
      "source": [
        "X, Y = np.meshgrid(np.linspace(-1,1,10), np.linspace(-1,1,10))\n",
        "print(X)\n",
        "\n",
        "D = np.sqrt(X*X + Y*Y)\n",
        "sigma, mu = 1.0, 0.0\n",
        "G = np.exp(-((D-mu)**2 / (2.0 * sigma**2)))\n",
        "print(G)\n",
        "\n",
        "#new_function\n",
        "#np.size()\n",
        "#np.info()\n",
        "#matrix 만들 땐 reshape\n",
        "#np.nonzero()\n",
        "#np.identify()\n",
        "#np.random.rand()\n",
        "#np.pad(array,pad_width,mode,constant_values)\n",
        "#np.diag()\n",
        "#np.unravel_index()\n",
        "#np.tile()\n",
        "#np.intersect\n",
        "#np.datetime64 & np.timdelta\n",
        "#np.add & negative & devide & multiply\n",
        "#np.linespace\n",
        "#np.allclose & np.array_equal\n",
        "#array.argmax\n",
        "#np.finfo().min/max/eps & np.iinfo().min/max VVV\n",
        "#np.meshgrid()"
      ],
      "id": "42e3a5bc",
      "execution_count": 8,
      "outputs": [
        {
          "output_type": "stream",
          "name": "stdout",
          "text": [
            "[[-1.         -0.77777778 -0.55555556 -0.33333333 -0.11111111  0.11111111\n",
            "   0.33333333  0.55555556  0.77777778  1.        ]\n",
            " [-1.         -0.77777778 -0.55555556 -0.33333333 -0.11111111  0.11111111\n",
            "   0.33333333  0.55555556  0.77777778  1.        ]\n",
            " [-1.         -0.77777778 -0.55555556 -0.33333333 -0.11111111  0.11111111\n",
            "   0.33333333  0.55555556  0.77777778  1.        ]\n",
            " [-1.         -0.77777778 -0.55555556 -0.33333333 -0.11111111  0.11111111\n",
            "   0.33333333  0.55555556  0.77777778  1.        ]\n",
            " [-1.         -0.77777778 -0.55555556 -0.33333333 -0.11111111  0.11111111\n",
            "   0.33333333  0.55555556  0.77777778  1.        ]\n",
            " [-1.         -0.77777778 -0.55555556 -0.33333333 -0.11111111  0.11111111\n",
            "   0.33333333  0.55555556  0.77777778  1.        ]\n",
            " [-1.         -0.77777778 -0.55555556 -0.33333333 -0.11111111  0.11111111\n",
            "   0.33333333  0.55555556  0.77777778  1.        ]\n",
            " [-1.         -0.77777778 -0.55555556 -0.33333333 -0.11111111  0.11111111\n",
            "   0.33333333  0.55555556  0.77777778  1.        ]\n",
            " [-1.         -0.77777778 -0.55555556 -0.33333333 -0.11111111  0.11111111\n",
            "   0.33333333  0.55555556  0.77777778  1.        ]\n",
            " [-1.         -0.77777778 -0.55555556 -0.33333333 -0.11111111  0.11111111\n",
            "   0.33333333  0.55555556  0.77777778  1.        ]]\n",
            "[[0.36787944 0.44822088 0.51979489 0.57375342 0.60279818 0.60279818\n",
            "  0.57375342 0.51979489 0.44822088 0.36787944]\n",
            " [0.44822088 0.54610814 0.63331324 0.69905581 0.73444367 0.73444367\n",
            "  0.69905581 0.63331324 0.54610814 0.44822088]\n",
            " [0.51979489 0.63331324 0.73444367 0.81068432 0.85172308 0.85172308\n",
            "  0.81068432 0.73444367 0.63331324 0.51979489]\n",
            " [0.57375342 0.69905581 0.81068432 0.89483932 0.9401382  0.9401382\n",
            "  0.89483932 0.81068432 0.69905581 0.57375342]\n",
            " [0.60279818 0.73444367 0.85172308 0.9401382  0.98773022 0.98773022\n",
            "  0.9401382  0.85172308 0.73444367 0.60279818]\n",
            " [0.60279818 0.73444367 0.85172308 0.9401382  0.98773022 0.98773022\n",
            "  0.9401382  0.85172308 0.73444367 0.60279818]\n",
            " [0.57375342 0.69905581 0.81068432 0.89483932 0.9401382  0.9401382\n",
            "  0.89483932 0.81068432 0.69905581 0.57375342]\n",
            " [0.51979489 0.63331324 0.73444367 0.81068432 0.85172308 0.85172308\n",
            "  0.81068432 0.73444367 0.63331324 0.51979489]\n",
            " [0.44822088 0.54610814 0.63331324 0.69905581 0.73444367 0.73444367\n",
            "  0.69905581 0.63331324 0.54610814 0.44822088]\n",
            " [0.36787944 0.44822088 0.51979489 0.57375342 0.60279818 0.60279818\n",
            "  0.57375342 0.51979489 0.44822088 0.36787944]]\n"
          ]
        }
      ]
    },
    {
      "cell_type": "markdown",
      "metadata": {
        "id": "0cf413ee"
      },
      "source": [
        "#### 57. How to randomly place p elements in a 2D array? (★★☆)"
      ],
      "id": "0cf413ee"
    },
    {
      "cell_type": "code",
      "metadata": {
        "id": "dfc57e06",
        "colab": {
          "base_uri": "https://localhost:8080/"
        },
        "outputId": "6c29dbad-4085-467f-bf82-6041d6689543"
      },
      "source": [
        "n = 10\n",
        "p = 3\n",
        "Z = np.zeros((n,n))\n",
        "np.put(Z, np.random.choice(range(n*n), p, replace=False),1)\n",
        "print(Z)\n",
        "\n",
        "np.random.choice(range(n*n), p)"
      ],
      "id": "dfc57e06",
      "execution_count": 10,
      "outputs": [
        {
          "output_type": "stream",
          "name": "stdout",
          "text": [
            "[[0. 0. 0. 1. 0. 0. 0. 0. 0. 0.]\n",
            " [0. 0. 0. 0. 0. 0. 0. 0. 0. 0.]\n",
            " [0. 0. 0. 0. 0. 0. 0. 0. 0. 0.]\n",
            " [0. 0. 0. 0. 0. 0. 0. 0. 0. 0.]\n",
            " [1. 0. 0. 0. 0. 0. 0. 0. 0. 0.]\n",
            " [0. 0. 0. 0. 0. 0. 0. 0. 0. 0.]\n",
            " [0. 0. 0. 0. 0. 0. 0. 0. 0. 0.]\n",
            " [0. 0. 0. 0. 0. 1. 0. 0. 0. 0.]\n",
            " [0. 0. 0. 0. 0. 0. 0. 0. 0. 0.]\n",
            " [0. 0. 0. 0. 0. 0. 0. 0. 0. 0.]]\n"
          ]
        },
        {
          "output_type": "execute_result",
          "data": {
            "text/plain": [
              "array([ 5, 45, 42])"
            ]
          },
          "metadata": {},
          "execution_count": 10
        }
      ]
    },
    {
      "cell_type": "markdown",
      "metadata": {
        "id": "215b6acc"
      },
      "source": [
        "#### 58. Subtract the mean of each row of a matrix (★★☆)"
      ],
      "id": "215b6acc"
    },
    {
      "cell_type": "code",
      "metadata": {
        "id": "dd1adef4",
        "colab": {
          "base_uri": "https://localhost:8080/"
        },
        "outputId": "c7db3d7a-5f95-48fb-e018-0d7db4fefa53"
      },
      "source": [
        "X = np.random.rand(5, 10)\n",
        "print(X)\n",
        "\n",
        "Y = X - X.mean(axis=1, keepdims=True)\n",
        "print(Y)"
      ],
      "id": "dd1adef4",
      "execution_count": 11,
      "outputs": [
        {
          "output_type": "stream",
          "name": "stdout",
          "text": [
            "[[0.3671447  0.80272115 0.64311622 0.54412073 0.8684767  0.27758618\n",
            "  0.96265012 0.70920785 0.47223132 0.84918396]\n",
            " [0.38546325 0.55448591 0.23245195 0.05692702 0.71064193 0.3949692\n",
            "  0.58875913 0.71176778 0.83928286 0.19912921]\n",
            " [0.22012053 0.70068035 0.51703461 0.92554838 0.05421353 0.589132\n",
            "  0.17698083 0.36226722 0.5212155  0.36389227]\n",
            " [0.73174399 0.52911858 0.80179649 0.85774395 0.18299371 0.61827544\n",
            "  0.65592872 0.06904132 0.12917939 0.36591946]\n",
            " [0.74906001 0.50037026 0.90726558 0.82167247 0.75890821 0.61838767\n",
            "  0.55750755 0.25975388 0.97176709 0.12782429]]\n",
            "[[-0.2824992   0.15307726 -0.00652767 -0.10552316  0.21883281 -0.37205771\n",
            "   0.31300622  0.05956396 -0.17741257  0.19954007]\n",
            " [-0.08192457  0.08709809 -0.23493588 -0.41046081  0.2432541  -0.07241862\n",
            "   0.12137131  0.24437996  0.37189504 -0.26825861]\n",
            " [-0.22298799  0.25757183  0.07392609  0.48243986 -0.38889499  0.14602348\n",
            "  -0.26612769 -0.08084131  0.07810697 -0.07921626]\n",
            " [ 0.23756988  0.03494447  0.30762238  0.36356985 -0.3111804   0.12410134\n",
            "   0.16175462 -0.42513278 -0.36499471 -0.12825464]\n",
            " [ 0.12180831 -0.12688144  0.28001388  0.19442077  0.13165651 -0.00886403\n",
            "  -0.06974415 -0.36749782  0.34451539 -0.49942741]]\n"
          ]
        }
      ]
    },
    {
      "cell_type": "markdown",
      "metadata": {
        "id": "c0cf37e0"
      },
      "source": [
        "#### 59. How to sort an array by the nth column? (★★☆)"
      ],
      "id": "c0cf37e0"
    },
    {
      "cell_type": "code",
      "metadata": {
        "id": "9336ca5f",
        "colab": {
          "base_uri": "https://localhost:8080/"
        },
        "outputId": "912106ab-7628-42ae-8616-f65896e44363"
      },
      "source": [
        "Z = np.random.randint(0,10,(3,3))\n",
        "print(Z)\n",
        "#n=2\n",
        "print(Z[Z[:,1].argsort()])"
      ],
      "id": "9336ca5f",
      "execution_count": 12,
      "outputs": [
        {
          "output_type": "stream",
          "name": "stdout",
          "text": [
            "[[8 9 6]\n",
            " [7 4 3]\n",
            " [0 7 4]]\n",
            "[[7 4 3]\n",
            " [0 7 4]\n",
            " [8 9 6]]\n"
          ]
        }
      ]
    },
    {
      "cell_type": "markdown",
      "metadata": {
        "id": "c17fb213"
      },
      "source": [
        "#### 60. How to tell if a given 2D array has null columns? (★★☆)"
      ],
      "id": "c17fb213"
    },
    {
      "cell_type": "code",
      "metadata": {
        "id": "7fdda78d",
        "colab": {
          "base_uri": "https://localhost:8080/"
        },
        "outputId": "fb8c6b59-1286-430c-f85c-9cd6e398490d"
      },
      "source": [
        "Z = np.random.randint(0,3,(3,10))\n",
        "print((~Z.any(axis=0)).any())"
      ],
      "id": "7fdda78d",
      "execution_count": 13,
      "outputs": [
        {
          "output_type": "stream",
          "name": "stdout",
          "text": [
            "False\n"
          ]
        }
      ]
    },
    {
      "cell_type": "markdown",
      "metadata": {
        "id": "8aaab886"
      },
      "source": [
        "#### 61. Find the nearest value from a given value in an array (★★☆)"
      ],
      "id": "8aaab886"
    },
    {
      "cell_type": "code",
      "metadata": {
        "id": "973f8079",
        "colab": {
          "base_uri": "https://localhost:8080/"
        },
        "outputId": "0b26336f-10a8-42f2-c16b-9b40efc4ccf2"
      },
      "source": [
        "Z = np.random.uniform(0,1,10)\n",
        "z = 0.5\n",
        "m = Z.flat[np.abs(Z - z).argmin()]\n",
        "print(m)"
      ],
      "id": "973f8079",
      "execution_count": 14,
      "outputs": [
        {
          "output_type": "stream",
          "name": "stdout",
          "text": [
            "0.6483910311529798\n"
          ]
        }
      ]
    },
    {
      "cell_type": "markdown",
      "metadata": {
        "id": "66a04e2e"
      },
      "source": [
        "#### 62. Considering two arrays with shape (1,3) and (3,1), how to compute their sum using an iterator? (★★☆)"
      ],
      "id": "66a04e2e"
    },
    {
      "cell_type": "code",
      "metadata": {
        "id": "4b356632",
        "colab": {
          "base_uri": "https://localhost:8080/"
        },
        "outputId": "77bdcf10-24e0-49b7-d224-0d0c5f06a095"
      },
      "source": [
        "A = np.arange(3).reshape(3,1)\n",
        "B = np.arange(3).reshape(1,3)\n",
        "# print(A, B)\n",
        "\n",
        "it = np.nditer([A,B, None])\n",
        "\n",
        "for x,y,z in it:\n",
        "    z[...] = x + y\n",
        "    \n",
        "print(it.operands[2])\n",
        "\n",
        "#new_function\n",
        "#np.size()\n",
        "#np.info()\n",
        "#matrix 만들 땐 reshape\n",
        "#np.nonzero()\n",
        "#np.identify()\n",
        "#np.random.rand()\n",
        "#np.pad(array,pad_width,mode,constant_values)\n",
        "#np.diag()\n",
        "#np.unravel_index()\n",
        "#np.tile()\n",
        "#np.intersect\n",
        "#np.datetime64 & np.timdelta\n",
        "#np.add & negative & devide & multiply\n",
        "#np.linespace\n",
        "#np.allclose & np.array_equal\n",
        "#array.argmax\n",
        "#np.finfo().min/max/eps & np.iinfo().min/max VVV\n",
        "#np.meshgrid()\n",
        "#np.nditer()"
      ],
      "id": "4b356632",
      "execution_count": 15,
      "outputs": [
        {
          "output_type": "stream",
          "name": "stdout",
          "text": [
            "[[0 1 2]\n",
            " [1 2 3]\n",
            " [2 3 4]]\n"
          ]
        }
      ]
    },
    {
      "cell_type": "markdown",
      "metadata": {
        "id": "f4427f7f"
      },
      "source": [
        "#### 63. Create an array class that has a name attribute (★★☆)"
      ],
      "id": "f4427f7f"
    },
    {
      "cell_type": "code",
      "metadata": {
        "id": "fe253212",
        "colab": {
          "base_uri": "https://localhost:8080/"
        },
        "outputId": "6afdb5a4-d4fc-4982-f065-32b91958d992"
      },
      "source": [
        "class NameArray(np.ndarray):\n",
        "    def __new__(cls, array, name=\"no name\"):\n",
        "        obj = np.asarray(array).view(cls)\n",
        "        obj.name = name\n",
        "        return obj\n",
        "    def __array_finalize__(self, obj):\n",
        "        if obj is None:\n",
        "            return\n",
        "        self.info = getattr(obj, 'name', 'no name')\n",
        "        \n",
        "Z = NameArray(np.arange(10), 'range_10')\n",
        "print(Z.name)"
      ],
      "id": "fe253212",
      "execution_count": 16,
      "outputs": [
        {
          "output_type": "stream",
          "name": "stdout",
          "text": [
            "range_10\n"
          ]
        }
      ]
    },
    {
      "cell_type": "markdown",
      "metadata": {
        "id": "58be9dd4"
      },
      "source": [
        "#### 64. Consider a given vector, how to add 1 to each element indexed by a second vector (be careful with repeated indices)? (★★★)"
      ],
      "id": "58be9dd4"
    },
    {
      "cell_type": "code",
      "metadata": {
        "id": "5c8bae42",
        "colab": {
          "base_uri": "https://localhost:8080/"
        },
        "outputId": "9d8cb8c4-f5d7-4464-8cb9-39b0e2f72bd7"
      },
      "source": [
        "Z = np.ones(10)\n",
        "I = np.random.randint(0, len(Z), 20)\n",
        "print(I)\n",
        "\n",
        "Z += np.bincount(I, minlength=len(Z))\n",
        "print(Z)\n",
        "\n",
        "np.add.at(Z, I, 1)\n",
        "print(Z)"
      ],
      "id": "5c8bae42",
      "execution_count": 17,
      "outputs": [
        {
          "output_type": "stream",
          "name": "stdout",
          "text": [
            "[1 7 5 1 8 6 7 4 0 4 9 3 5 7 0 4 1 8 8 2]\n",
            "[3. 4. 2. 2. 4. 3. 2. 4. 4. 2.]\n",
            "[5. 7. 3. 3. 7. 5. 3. 7. 7. 3.]\n"
          ]
        }
      ]
    },
    {
      "cell_type": "markdown",
      "metadata": {
        "id": "7348abd0"
      },
      "source": [
        "#### 65. How to accumulate elements of a vector (X) to an array (F) based on an index list (I)? (★★★)"
      ],
      "id": "7348abd0"
    },
    {
      "cell_type": "code",
      "metadata": {
        "id": "b3e33a5a",
        "colab": {
          "base_uri": "https://localhost:8080/"
        },
        "outputId": "f7a52dce-369d-4e2b-be17-d2182d349795"
      },
      "source": [
        "X = [1,2,3,4,5,6]\n",
        "I = [1,3,9,3,4,1]\n",
        "F = np.bincount(I,X)\n",
        "print(F)"
      ],
      "id": "b3e33a5a",
      "execution_count": 18,
      "outputs": [
        {
          "output_type": "stream",
          "name": "stdout",
          "text": [
            "[0. 7. 0. 6. 5. 0. 0. 0. 0. 3.]\n"
          ]
        }
      ]
    },
    {
      "cell_type": "markdown",
      "metadata": {
        "id": "538e651c"
      },
      "source": [
        "#### 66. Considering a (w,h,3) image of (dtype=ubyte), compute the number of unique colors (★★☆)"
      ],
      "id": "538e651c"
    },
    {
      "cell_type": "code",
      "metadata": {
        "id": "57f2f02f",
        "colab": {
          "base_uri": "https://localhost:8080/"
        },
        "outputId": "f8355cf1-1b13-4727-ce9c-a8aa81e89081"
      },
      "source": [
        "w, h = 16,16\n",
        "I = np.random.randint(0, 2, (h,w,3)).astype(np.ubyte)\n",
        "\n",
        "F = I[...,0]*(256*256) + I[...,1]*256 +I[...,2]\n",
        "n = len(np.unique(F))\n",
        "print(n)"
      ],
      "id": "57f2f02f",
      "execution_count": 19,
      "outputs": [
        {
          "output_type": "stream",
          "name": "stdout",
          "text": [
            "8\n"
          ]
        }
      ]
    },
    {
      "cell_type": "markdown",
      "metadata": {
        "id": "33c986d9"
      },
      "source": [
        "#### 67. Considering a four dimensions array, how to get sum over the last two axis at once? (★★★)"
      ],
      "id": "33c986d9"
    },
    {
      "cell_type": "code",
      "metadata": {
        "id": "a99a50e2"
      },
      "source": [
        ""
      ],
      "id": "a99a50e2",
      "execution_count": null,
      "outputs": []
    },
    {
      "cell_type": "markdown",
      "metadata": {
        "id": "00eb27c4"
      },
      "source": [
        "#### 68. Considering a one-dimensional vector D, how to compute means of subsets of D using a vector S of same size describing subset  indices? (★★★)"
      ],
      "id": "00eb27c4"
    },
    {
      "cell_type": "code",
      "metadata": {
        "id": "d48c5210"
      },
      "source": [
        ""
      ],
      "id": "d48c5210",
      "execution_count": null,
      "outputs": []
    },
    {
      "cell_type": "markdown",
      "metadata": {
        "id": "928a1a15"
      },
      "source": [
        "#### 69. How to get the diagonal of a dot product? (★★★)"
      ],
      "id": "928a1a15"
    },
    {
      "cell_type": "code",
      "metadata": {
        "id": "ef2c9ddd"
      },
      "source": [
        ""
      ],
      "id": "ef2c9ddd",
      "execution_count": null,
      "outputs": []
    },
    {
      "cell_type": "markdown",
      "metadata": {
        "id": "5143f7f3"
      },
      "source": [
        "#### 70. Consider the vector [1, 2, 3, 4, 5], how to build a new vector with 3 consecutive zeros interleaved between each value? (★★★)"
      ],
      "id": "5143f7f3"
    },
    {
      "cell_type": "code",
      "metadata": {
        "id": "1d99a1c1"
      },
      "source": [
        ""
      ],
      "id": "1d99a1c1",
      "execution_count": null,
      "outputs": []
    },
    {
      "cell_type": "markdown",
      "metadata": {
        "id": "f62551d8"
      },
      "source": [
        "#### 71. Consider an array of dimension (5,5,3), how to mulitply it by an array with dimensions (5,5)? (★★★)"
      ],
      "id": "f62551d8"
    },
    {
      "cell_type": "code",
      "metadata": {
        "id": "9ab241b7"
      },
      "source": [
        ""
      ],
      "id": "9ab241b7",
      "execution_count": null,
      "outputs": []
    },
    {
      "cell_type": "markdown",
      "metadata": {
        "id": "6896e326"
      },
      "source": [
        "#### 72. How to swap two rows of an array? (★★★)"
      ],
      "id": "6896e326"
    },
    {
      "cell_type": "code",
      "metadata": {
        "id": "9e8fcba9"
      },
      "source": [
        ""
      ],
      "id": "9e8fcba9",
      "execution_count": null,
      "outputs": []
    },
    {
      "cell_type": "markdown",
      "metadata": {
        "id": "aeaf4a7b"
      },
      "source": [
        "#### 73. Consider a set of 10 triplets describing 10 triangles (with shared vertices), find the set of unique line segments composing all the  triangles (★★★)"
      ],
      "id": "aeaf4a7b"
    },
    {
      "cell_type": "code",
      "metadata": {
        "id": "39ef4234"
      },
      "source": [
        ""
      ],
      "id": "39ef4234",
      "execution_count": null,
      "outputs": []
    },
    {
      "cell_type": "markdown",
      "metadata": {
        "id": "3d11451b"
      },
      "source": [
        "#### 74. Given a sorted array C that corresponds to a bincount, how to produce an array A such that np.bincount(A) == C? (★★★)"
      ],
      "id": "3d11451b"
    },
    {
      "cell_type": "code",
      "metadata": {
        "id": "a5563362"
      },
      "source": [
        ""
      ],
      "id": "a5563362",
      "execution_count": null,
      "outputs": []
    },
    {
      "cell_type": "markdown",
      "metadata": {
        "id": "a0a45995"
      },
      "source": [
        "#### 75. How to compute averages using a sliding window over an array? (★★★)"
      ],
      "id": "a0a45995"
    },
    {
      "cell_type": "code",
      "metadata": {
        "id": "116243d5"
      },
      "source": [
        ""
      ],
      "id": "116243d5",
      "execution_count": null,
      "outputs": []
    },
    {
      "cell_type": "markdown",
      "metadata": {
        "id": "7808578f"
      },
      "source": [
        "#### 76. Consider a one-dimensional array Z, build a two-dimensional array whose first row is (Z[0],Z[1],Z[2]) and each subsequent row is  shifted by 1 (last row should be (Z[-3],Z[-2],Z[-1]) (★★★)"
      ],
      "id": "7808578f"
    },
    {
      "cell_type": "code",
      "metadata": {
        "id": "6b23ba6e"
      },
      "source": [
        ""
      ],
      "id": "6b23ba6e",
      "execution_count": null,
      "outputs": []
    },
    {
      "cell_type": "markdown",
      "metadata": {
        "id": "8e83df46"
      },
      "source": [
        "#### 77. How to negate a boolean, or to change the sign of a float inplace? (★★★)"
      ],
      "id": "8e83df46"
    },
    {
      "cell_type": "code",
      "metadata": {
        "id": "f73127b7"
      },
      "source": [
        ""
      ],
      "id": "f73127b7",
      "execution_count": null,
      "outputs": []
    },
    {
      "cell_type": "markdown",
      "metadata": {
        "id": "e67ff31c"
      },
      "source": [
        "#### 78. Consider 2 sets of points P0,P1 describing lines (2d) and a point p, how to compute distance from p to each line i (P0[i],P1[i])? (★★★)"
      ],
      "id": "e67ff31c"
    },
    {
      "cell_type": "code",
      "metadata": {
        "id": "89d75b76"
      },
      "source": [
        ""
      ],
      "id": "89d75b76",
      "execution_count": null,
      "outputs": []
    },
    {
      "cell_type": "markdown",
      "metadata": {
        "id": "ad8821b1"
      },
      "source": [
        "#### 79. Consider 2 sets of points P0,P1 describing lines (2d) and a set of points P, how to compute distance from each point j (P[j]) to each line i (P0[i],P1[i])? (★★★)"
      ],
      "id": "ad8821b1"
    },
    {
      "cell_type": "code",
      "metadata": {
        "id": "775feca0"
      },
      "source": [
        ""
      ],
      "id": "775feca0",
      "execution_count": null,
      "outputs": []
    },
    {
      "cell_type": "markdown",
      "metadata": {
        "id": "a0c8cbf5"
      },
      "source": [
        "#### 80. Consider an arbitrary array, write a function that extract a subpart with a fixed shape and centered on a given element (pad with a `fill` value when necessary) (★★★)"
      ],
      "id": "a0c8cbf5"
    },
    {
      "cell_type": "code",
      "metadata": {
        "id": "381fd926"
      },
      "source": [
        ""
      ],
      "id": "381fd926",
      "execution_count": null,
      "outputs": []
    },
    {
      "cell_type": "markdown",
      "metadata": {
        "id": "781fa236"
      },
      "source": [
        "#### 81. Consider an array Z = [1,2,3,4,5,6,7,8,9,10,11,12,13,14], how to generate an array R = [[1,2,3,4], [2,3,4,5], [3,4,5,6], ..., [11,12,13,14]]? (★★★)"
      ],
      "id": "781fa236"
    },
    {
      "cell_type": "code",
      "metadata": {
        "id": "8e84d3c2"
      },
      "source": [
        ""
      ],
      "id": "8e84d3c2",
      "execution_count": null,
      "outputs": []
    },
    {
      "cell_type": "markdown",
      "metadata": {
        "id": "9c9bb0f3"
      },
      "source": [
        "#### 82. Compute a matrix rank (★★★)"
      ],
      "id": "9c9bb0f3"
    },
    {
      "cell_type": "code",
      "metadata": {
        "id": "b75ef318"
      },
      "source": [
        ""
      ],
      "id": "b75ef318",
      "execution_count": null,
      "outputs": []
    },
    {
      "cell_type": "markdown",
      "metadata": {
        "id": "7d8dc135"
      },
      "source": [
        "#### 83. How to find the most frequent value in an array?"
      ],
      "id": "7d8dc135"
    },
    {
      "cell_type": "code",
      "metadata": {
        "id": "3978a7a2"
      },
      "source": [
        ""
      ],
      "id": "3978a7a2",
      "execution_count": null,
      "outputs": []
    },
    {
      "cell_type": "markdown",
      "metadata": {
        "id": "aa340126"
      },
      "source": [
        "#### 84. Extract all the contiguous 3x3 blocks from a random 10x10 matrix (★★★)"
      ],
      "id": "aa340126"
    },
    {
      "cell_type": "code",
      "metadata": {
        "id": "bf138783"
      },
      "source": [
        ""
      ],
      "id": "bf138783",
      "execution_count": null,
      "outputs": []
    },
    {
      "cell_type": "markdown",
      "metadata": {
        "id": "6b6d2c84"
      },
      "source": [
        "#### 85. Create a 2D array subclass such that Z[i,j] == Z[j,i] (★★★)"
      ],
      "id": "6b6d2c84"
    },
    {
      "cell_type": "code",
      "metadata": {
        "id": "155e16ce"
      },
      "source": [
        ""
      ],
      "id": "155e16ce",
      "execution_count": null,
      "outputs": []
    },
    {
      "cell_type": "markdown",
      "metadata": {
        "id": "7be0fe36"
      },
      "source": [
        "#### 86. Consider a set of p matrices wich shape (n,n) and a set of p vectors with shape (n,1). How to compute the sum of of the p matrix products at once? (result has shape (n,1)) (★★★)"
      ],
      "id": "7be0fe36"
    },
    {
      "cell_type": "code",
      "metadata": {
        "id": "ea732c23"
      },
      "source": [
        ""
      ],
      "id": "ea732c23",
      "execution_count": null,
      "outputs": []
    },
    {
      "cell_type": "markdown",
      "metadata": {
        "id": "a840a88f"
      },
      "source": [
        "#### 87. Consider a 16x16 array, how to get the block-sum (block size is 4x4)? (★★★)"
      ],
      "id": "a840a88f"
    },
    {
      "cell_type": "code",
      "metadata": {
        "id": "6e0c1cbe"
      },
      "source": [
        ""
      ],
      "id": "6e0c1cbe",
      "execution_count": null,
      "outputs": []
    },
    {
      "cell_type": "markdown",
      "metadata": {
        "id": "c2bd7385"
      },
      "source": [
        "#### 88. How to implement the Game of Life using numpy arrays? (★★★)"
      ],
      "id": "c2bd7385"
    },
    {
      "cell_type": "code",
      "metadata": {
        "id": "aea7d805"
      },
      "source": [
        ""
      ],
      "id": "aea7d805",
      "execution_count": null,
      "outputs": []
    },
    {
      "cell_type": "markdown",
      "metadata": {
        "id": "4c70397b"
      },
      "source": [
        "#### 89. How to get the n largest values of an array (★★★)"
      ],
      "id": "4c70397b"
    },
    {
      "cell_type": "code",
      "metadata": {
        "id": "16371718"
      },
      "source": [
        ""
      ],
      "id": "16371718",
      "execution_count": null,
      "outputs": []
    },
    {
      "cell_type": "markdown",
      "metadata": {
        "id": "15ba193c"
      },
      "source": [
        "#### 90. Given an arbitrary number of vectors, build the cartesian product (every combinations of every item) (★★★)"
      ],
      "id": "15ba193c"
    },
    {
      "cell_type": "code",
      "metadata": {
        "id": "c9c468d4"
      },
      "source": [
        ""
      ],
      "id": "c9c468d4",
      "execution_count": null,
      "outputs": []
    },
    {
      "cell_type": "markdown",
      "metadata": {
        "id": "ec828405"
      },
      "source": [
        "#### 91. How to create a record array from a regular array? (★★★)"
      ],
      "id": "ec828405"
    },
    {
      "cell_type": "code",
      "metadata": {
        "id": "84eb5fba"
      },
      "source": [
        ""
      ],
      "id": "84eb5fba",
      "execution_count": null,
      "outputs": []
    },
    {
      "cell_type": "markdown",
      "metadata": {
        "id": "d94352b6"
      },
      "source": [
        "#### 92. Consider a large vector Z, compute Z to the power of 3 using 3 different methods (★★★)"
      ],
      "id": "d94352b6"
    },
    {
      "cell_type": "code",
      "metadata": {
        "id": "301ba8a8"
      },
      "source": [
        ""
      ],
      "id": "301ba8a8",
      "execution_count": null,
      "outputs": []
    },
    {
      "cell_type": "markdown",
      "metadata": {
        "id": "7c3a9e32"
      },
      "source": [
        "#### 93. Consider two arrays A and B of shape (8,3) and (2,2). How to find rows of A that contain elements of each row of B regardless of the order of the elements in B? (★★★)"
      ],
      "id": "7c3a9e32"
    },
    {
      "cell_type": "code",
      "metadata": {
        "id": "777376e3"
      },
      "source": [
        ""
      ],
      "id": "777376e3",
      "execution_count": null,
      "outputs": []
    },
    {
      "cell_type": "markdown",
      "metadata": {
        "id": "da9d5eeb"
      },
      "source": [
        "#### 94. Considering a 10x3 matrix, extract rows with unequal values (e.g. [2,2,3]) (★★★)"
      ],
      "id": "da9d5eeb"
    },
    {
      "cell_type": "code",
      "metadata": {
        "id": "67dbea5c"
      },
      "source": [
        ""
      ],
      "id": "67dbea5c",
      "execution_count": null,
      "outputs": []
    },
    {
      "cell_type": "markdown",
      "metadata": {
        "id": "f7b65fd5"
      },
      "source": [
        "#### 95. Convert a vector of ints into a matrix binary representation (★★★)"
      ],
      "id": "f7b65fd5"
    },
    {
      "cell_type": "code",
      "metadata": {
        "id": "127294ed"
      },
      "source": [
        ""
      ],
      "id": "127294ed",
      "execution_count": null,
      "outputs": []
    },
    {
      "cell_type": "markdown",
      "metadata": {
        "id": "2784c996"
      },
      "source": [
        "#### 96. Given a two dimensional array, how to extract unique rows? (★★★)"
      ],
      "id": "2784c996"
    },
    {
      "cell_type": "code",
      "metadata": {
        "id": "f030595f"
      },
      "source": [
        ""
      ],
      "id": "f030595f",
      "execution_count": null,
      "outputs": []
    },
    {
      "cell_type": "markdown",
      "metadata": {
        "id": "71a7574c"
      },
      "source": [
        "#### 97. Considering 2 vectors A & B, write the einsum equivalent of inner, outer, sum, and mul function (★★★)"
      ],
      "id": "71a7574c"
    },
    {
      "cell_type": "code",
      "metadata": {
        "id": "721c4e1a"
      },
      "source": [
        ""
      ],
      "id": "721c4e1a",
      "execution_count": null,
      "outputs": []
    },
    {
      "cell_type": "markdown",
      "metadata": {
        "id": "30f06441"
      },
      "source": [
        "#### 98. Considering a path described by two vectors (X,Y), how to sample it using equidistant samples (★★★)?"
      ],
      "id": "30f06441"
    },
    {
      "cell_type": "code",
      "metadata": {
        "id": "fb41c022"
      },
      "source": [
        ""
      ],
      "id": "fb41c022",
      "execution_count": null,
      "outputs": []
    },
    {
      "cell_type": "markdown",
      "metadata": {
        "id": "e5737276"
      },
      "source": [
        "#### 99. Given an integer n and a 2D array X, select from X the rows which can be interpreted as draws from a multinomial distribution with n degrees, i.e., the rows which only contain integers and which sum to n. (★★★)"
      ],
      "id": "e5737276"
    },
    {
      "cell_type": "code",
      "metadata": {
        "id": "68c333b0"
      },
      "source": [
        ""
      ],
      "id": "68c333b0",
      "execution_count": null,
      "outputs": []
    },
    {
      "cell_type": "markdown",
      "metadata": {
        "id": "5882e36d"
      },
      "source": [
        "#### 100. Compute bootstrapped 95% confidence intervals for the mean of a 1D array X (i.e., resample the elements of an array with replacement N times, compute the mean of each sample, and then compute percentiles over the means). (★★★)"
      ],
      "id": "5882e36d"
    },
    {
      "cell_type": "code",
      "metadata": {
        "id": "d1b566e5"
      },
      "source": [
        ""
      ],
      "id": "d1b566e5",
      "execution_count": null,
      "outputs": []
    }
  ]
}
