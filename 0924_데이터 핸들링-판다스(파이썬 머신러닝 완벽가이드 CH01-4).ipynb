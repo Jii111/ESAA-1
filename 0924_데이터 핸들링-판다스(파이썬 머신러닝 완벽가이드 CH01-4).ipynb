{
 "cells": [
  {
   "cell_type": "code",
   "execution_count": 49,
   "id": "6cbf3f52",
   "metadata": {},
   "outputs": [
    {
     "name": "stdout",
     "output_type": "stream",
     "text": [
      "titanic 변수 type: <class 'pandas.core.frame.DataFrame'>\n",
      "Dataframe 크기: (891, 12)\n",
      "<class 'pandas.core.frame.DataFrame'>\n",
      "RangeIndex: 891 entries, 0 to 890\n",
      "Data columns (total 12 columns):\n",
      " #   Column       Non-Null Count  Dtype  \n",
      "---  ------       --------------  -----  \n",
      " 0   PassengerId  891 non-null    int64  \n",
      " 1   Survived     891 non-null    int64  \n",
      " 2   Pclass       891 non-null    int64  \n",
      " 3   Name         891 non-null    object \n",
      " 4   Sex          891 non-null    object \n",
      " 5   Age          714 non-null    float64\n",
      " 6   SibSp        891 non-null    int64  \n",
      " 7   Parch        891 non-null    int64  \n",
      " 8   Ticket       891 non-null    object \n",
      " 9   Fare         891 non-null    float64\n",
      " 10  Cabin        204 non-null    object \n",
      " 11  Embarked     889 non-null    object \n",
      "dtypes: float64(2), int64(5), object(5)\n",
      "memory usage: 83.7+ KB\n",
      "array1 shape: (3,)\n",
      "1차원 리스트로 만든 DataFrame:\n",
      "    col1\n",
      "0     1\n",
      "1     2\n",
      "2     3\n",
      "   col1\n",
      "0     1\n",
      "1     2\n",
      "2     3\n",
      "3의 제곱은: 9\n"
     ]
    },
    {
     "data": {
      "text/plain": [
       "[1, 4, 9]"
      ]
     },
     "execution_count": 49,
     "metadata": {},
     "output_type": "execute_result"
    }
   ],
   "source": [
    "import pandas as pd\n",
    "\n",
    "titanic_df=pd.read_csv('C:/Users/judy0/Downloads/titanic_train.csv')\n",
    "print('titanic 변수 type:', type(titanic_df))\n",
    "titanic_df\n",
    "\n",
    "print('Dataframe 크기:',titanic_df.shape)\n",
    "titanic_df.info()\n",
    "titanic_df.describe()\n",
    "\n",
    "titanic_df['Pclass'].value_counts()\n",
    "\n",
    "import numpy as np\n",
    "col_name1=['col1']\n",
    "list1=[1,2,3]\n",
    "array1=np.array(list1)\n",
    "print('array1 shape:',array1.shape)\n",
    "df_list1=pd.DataFrame(list1,columns=col_name1)\n",
    "print('1차원 리스트로 만든 DataFrame:\\n',df_list1)\n",
    "df_array1=pd.DataFrame(array1,columns=col_name1)\n",
    "print(df_array1)\n",
    "\n",
    "col_name2=['col1','col2']\n",
    "list2=[[1,2],\n",
    "      [3,4]]\n",
    "array2=np.array(list2)\n",
    "df_list2=pd.DataFrame(list2,columns=col_name2)\n",
    "df_list2\n",
    "\n",
    "dict={'col1':[1,11],'col2':[2,22]}\n",
    "df_dict=pd.DataFrame(dict)\n",
    "df_dict\n",
    "\n",
    "dict2=df_dict.to_dict()\n",
    "dict2\n",
    "dict3=df_dict.to_dict('list')\n",
    "dict3\n",
    "\n",
    "#titanic_df.ix[1,2]\n",
    "titanic_df.iloc[1,2]\n",
    "#titanic_df.iloc['Survived',2]\n",
    "\n",
    "titanic_boolean=titanic_df[titanic_df['Age']>60]\n",
    "titanic_boolean\n",
    "\n",
    "titanic_df.sort_values(by=['Name'])\n",
    "\n",
    "titanic_df[['Age','Fare']].mean()\n",
    "\n",
    "titanic_df.groupby('Pclass').count()\n",
    "titanic_df.groupby('Pclass')[['PassengerId','Survived']].count()\n",
    "\n",
    "titanic_df.isna().sum()\n",
    "\n",
    "lamdba_square=lambda x : x**2\n",
    "print('3의 제곱은:',lamdba_square(3))\n",
    "\n",
    "a=[1,2,3]\n",
    "squares=map(lambda x : x**2,a)\n",
    "list(squares)"
   ]
  }
 ],
 "metadata": {
  "kernelspec": {
   "display_name": "Python 3",
   "language": "python",
   "name": "python3"
  },
  "language_info": {
   "codemirror_mode": {
    "name": "ipython",
    "version": 3
   },
   "file_extension": ".py",
   "mimetype": "text/x-python",
   "name": "python",
   "nbconvert_exporter": "python",
   "pygments_lexer": "ipython3",
   "version": "3.8.8"
  }
 },
 "nbformat": 4,
 "nbformat_minor": 5
}
