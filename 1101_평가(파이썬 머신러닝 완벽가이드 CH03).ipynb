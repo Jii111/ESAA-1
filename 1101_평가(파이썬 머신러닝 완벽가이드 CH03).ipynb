{
 "cells": [
  {
   "cell_type": "markdown",
   "id": "5ddd968f",
   "metadata": {},
   "source": [
    "# 평가(147p-174p)"
   ]
  },
  {
   "cell_type": "code",
   "execution_count": 1,
   "id": "07f41ed3",
   "metadata": {},
   "outputs": [],
   "source": [
    "from sklearn.datasets import load_digits\n",
    "from sklearn.model_selection import train_test_split\n",
    "from sklearn.base import BaseEstimator\n",
    "from sklearn.metrics import accuracy_score\n",
    "import numpy as np\n",
    "import pandas as pd"
   ]
  },
  {
   "cell_type": "code",
   "execution_count": 3,
   "id": "f2431d72",
   "metadata": {},
   "outputs": [],
   "source": [
    "class MyFakeClassifier(BaseEstimator):\n",
    "    def fit(self,X,y):\n",
    "        pass\n",
    "    \n",
    "    def predict(self,X):\n",
    "        return np.zeros((len(X),1),dtype=bool)\n",
    "    \n",
    "digits=load_digits()\n",
    "\n",
    "y=(digits.target==7).astype(int)\n",
    "X_train,X_test,y_train,y_test=train_test_split(digits.data,y,random_state=11)"
   ]
  },
  {
   "cell_type": "code",
   "execution_count": 4,
   "id": "c82b5162",
   "metadata": {},
   "outputs": [
    {
     "name": "stdout",
     "output_type": "stream",
     "text": [
      "레이블 테스트 세트 크기: (450,)\n",
      "테스트 세트 레이블 0과 1의 분포도\n",
      "0    405\n",
      "1     45\n",
      "dtype: int64\n"
     ]
    }
   ],
   "source": [
    "#불균형한 레이블 데이터 분포도 확인\n",
    "print('레이블 테스트 세트 크기:',y_test.shape)\n",
    "print('테스트 세트 레이블 0과 1의 분포도')\n",
    "print(pd.Series(y_test).value_counts())"
   ]
  },
  {
   "cell_type": "code",
   "execution_count": 5,
   "id": "149ac54e",
   "metadata": {
    "scrolled": true
   },
   "outputs": [
    {
     "name": "stdout",
     "output_type": "stream",
     "text": [
      "모든 예측을 0으로 하여도 정확도는:0.900\n"
     ]
    }
   ],
   "source": [
    "#학습/예측/정확도 평가\n",
    "fakeclf=MyFakeClassifier()\n",
    "fakeclf.fit(X_train,y_train)\n",
    "fakepred=fakeclf.predict(X_test)\n",
    "print('모든 예측을 0으로 하여도 정확도는:{:.3f}'.format(accuracy_score(y_test,fakepred)))"
   ]
  },
  {
   "cell_type": "code",
   "execution_count": 6,
   "id": "11b4da6f",
   "metadata": {},
   "outputs": [
    {
     "data": {
      "text/plain": [
       "array([[405,   0],\n",
       "       [ 45,   0]], dtype=int64)"
      ]
     },
     "execution_count": 6,
     "metadata": {},
     "output_type": "execute_result"
    }
   ],
   "source": [
    "from sklearn.metrics import confusion_matrix\n",
    "confusion_matrix(y_test,fakepred)"
   ]
  },
  {
   "cell_type": "code",
   "execution_count": 7,
   "id": "98f86f43",
   "metadata": {},
   "outputs": [],
   "source": [
    "from sklearn.metrics import accuracy_score, precision_score, recall_score, confusion_matrix\n",
    "\n",
    "def get_clf_eval(y_test,pred):\n",
    "    confusion=confusion_matrix(y_test,pred)\n",
    "    accuracy=accuracy_score(y_test,pred)\n",
    "    precision=precision_score(y_test,pred)\n",
    "    recall=recall_score(y_test,pred)\n",
    "    print('오차행렬')\n",
    "    print(confusion)\n",
    "    print('정확도: {0:.4f}, 정밀도: {1:.4f}'.format(accuracy,precision,recall))"
   ]
  },
  {
   "cell_type": "code",
   "execution_count": 9,
   "id": "24e489f2",
   "metadata": {},
   "outputs": [],
   "source": [
    "import pandas as pd\n",
    "from sklearn.model_selection import train_test_split\n",
    "from sklearn.linear_model import LogisticRegression\n",
    "\n",
    "#titanic_df=pd.read_csv()\n",
    "#y_titanic_df=titanic_df['Survived']\n",
    "#X_titanic_df=titanic_df.drop('Survived',axis=1)\n",
    "#X_titanic_df=transform_features(X_titanic_df)\n",
    "\n",
    "#X_train,X_test,y_train,y_test=train_test_split(X_titanic_df,y_titanic_df,test_size=0.2,random_state=11)\n",
    "\n",
    "lr_clf=LogisticRegression()\n",
    "\n",
    "#lr_clf.fit(X_train,y_train)\n",
    "#pred=lr_clf.predict(X_test)\n",
    "#get_clf_eval(y_test,pred)"
   ]
  },
  {
   "cell_type": "code",
   "execution_count": 10,
   "id": "34630f3b",
   "metadata": {},
   "outputs": [],
   "source": [
    "#예측확률 계산\n",
    "\n",
    "#pred_proba=lr_clf.predict_proba(X_test)\n",
    "#pred=lr_clf.predict(X_test)\n",
    "#print('pred_proba()결과 Shape : {0}',format(pred_proba.shape))\n",
    "#print('pred_proba array에서 앞 3개만 샘플로 추출 \\n:',pred_proba[:3])\n",
    "\n",
    "#pred_proba_result=np.concatenate([pred_proba,pred.reshape(-1,1)],axis=1)\n",
    "#print('두 개의 class 중에서 더 큰 확률을 클래스 값으로 예측 \\n',pred_proba_result[:3])"
   ]
  },
  {
   "cell_type": "code",
   "execution_count": 11,
   "id": "6e48b741",
   "metadata": {
    "scrolled": true
   },
   "outputs": [
    {
     "name": "stdout",
     "output_type": "stream",
     "text": [
      "[[0. 0. 1.]\n",
      " [1. 0. 0.]\n",
      " [0. 0. 1.]]\n"
     ]
    }
   ],
   "source": [
    "from sklearn.preprocessing import Binarizer\n",
    "X=[[1,-1,2],\n",
    "  [2,0,0],\n",
    "  [0,1.1,1.2]]\n",
    "\n",
    "binarizer=Binarizer(threshold=1.1)\n",
    "print(binarizer.fit_transform(X))"
   ]
  },
  {
   "cell_type": "code",
   "execution_count": 15,
   "id": "35aca288",
   "metadata": {},
   "outputs": [],
   "source": [
    "from sklearn.preprocessing import Binarizer\n",
    "\n",
    "#custom_threshold=0.5\n",
    "\n",
    "#pred_proba_1=pred_proba[:,1].reshape(-1,1)\n",
    "\n",
    "#binarizer=Binarizer(threshold=custom_threshold).fit(pred_proba_1)\n",
    "#custom_predict=binarizer.transform(pred_proba_1)\n",
    "\n",
    "#get_clf_eval(y_test,custom_predict)"
   ]
  },
  {
   "cell_type": "code",
   "execution_count": 16,
   "id": "c2ddeab6",
   "metadata": {},
   "outputs": [],
   "source": [
    "#임곗값 변화에 따른 평가\n",
    "\n",
    "#theresholds=[0.4,0.45,0.5,0.55,0.6]\n",
    "\n",
    "#def get_eval_by_threshold(y_test,pred_proba_c1,thresholds):\n",
    "#   for custom_threshold in thresholds:\n",
    "#     binarier=Binarizer(threshold=custom_threshold).fit(pred_proba_c1)\n",
    "#     custom_predict=binarizer.transform(pred_proba_c1)\n",
    "#     print('임곗값:',custom_theshold)\n",
    "#     get_clf_eval(y_test,custom_predict)\n",
    "\n",
    "#get_eval_by_threshold(y_test,pred_proba[:,1].reshape(-1,1),thresholds)\n",
    "\n"
   ]
  },
  {
   "cell_type": "code",
   "execution_count": 20,
   "id": "1700f43d",
   "metadata": {},
   "outputs": [],
   "source": [
    "from sklearn.metrics import f1_score\n",
    "#f1=f1_score(y_test,pred)\n",
    "#print('F1 스코어: {0:.4f}'.format(f1))\n",
    "\n",
    "#함수 작성\n",
    "#def get_clf_eval(y_test,pred):\n",
    "#    confusion=confusion_matrix(y_test,pred)\n",
    "#    accuracy=accuracy_score(y_test,pred)\n",
    "#    precision=precision_score(y_test,pred)\n",
    "#    recall=recall_score(y_test,pred)\n",
    "    \n",
    "#    f1= f1_score(y_test,pred)\n",
    "#    print('오차행렬')\n",
    "#    print(consfution)\n",
    "\n",
    "#    roc_auc=roc_auc_score(y_test,pred_proba)\n",
    "#    print('오차행렬')\n",
    "#    print(confusion)\n",
    "\n",
    "#    print('정확도: {0:.4f}, 정밀도: {1:.4f}, 재현율: {2:.4f}, F1:{3:.4f}, AUC:{4:.4f}'.format(accuracy,precision,recall,f1,roc_auc))\n",
    "\n",
    "\n",
    "#thresholds=[0.4,0.45,0.5,0.55,0.6]\n",
    "#pred_proba=lr_clf.predict_proba(X_test)\n",
    "#get_eval_by_threshold(y_test,pred_proba[:,1],reshape(-1,1),threholds)\n",
    "\n"
   ]
  },
  {
   "cell_type": "code",
   "execution_count": 21,
   "id": "25d47f1f",
   "metadata": {},
   "outputs": [],
   "source": [
    "from sklearn.metrics import roc_curve\n",
    "\n",
    "#pred_proba_class1=lr_clf.predict_proba(X_test)[:,1]\n",
    "\n",
    "#시각화\n",
    "def roc_curve_plot(y_test,pred_proba_c1):\n",
    "    fprs,tprs,thresholds=roc_curve(y_test,pred_proba_c1)\n",
    "    plt.plot(fprs,tprslabel='ROC')\n",
    "    plot.plot([0,1],[0,1],'k--',label='Random')\n",
    "    \n",
    "    start,end=plt.xlim()\n",
    "    plt.sticks(np.round(np.arrange(start,end,0.1),2))\n",
    "    plt.xlim(0,1);plt.ylim(0,1)\n",
    "    plt.xlabel('FPR(1-Sensitivity)');plt.ylabel('TPR(Recall)')\n",
    "    plt.legend()\n",
    "    \n",
    "#roc_curve_plot(y_test,pred[:,1])"
   ]
  }
 ],
 "metadata": {
  "kernelspec": {
   "display_name": "Python 3",
   "language": "python",
   "name": "python3"
  },
  "language_info": {
   "codemirror_mode": {
    "name": "ipython",
    "version": 3
   },
   "file_extension": ".py",
   "mimetype": "text/x-python",
   "name": "python",
   "nbconvert_exporter": "python",
   "pygments_lexer": "ipython3",
   "version": "3.8.8"
  }
 },
 "nbformat": 4,
 "nbformat_minor": 5
}
