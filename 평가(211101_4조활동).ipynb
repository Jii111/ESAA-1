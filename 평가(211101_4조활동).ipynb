{
 "cells": [
  {
   "cell_type": "code",
   "execution_count": 1,
   "metadata": {
    "id": "4Zqc4O_BfWqZ"
   },
   "outputs": [],
   "source": [
    "# 모듈 및 데이터 로드 \n",
    "from sklearn.datasets import load_breast_cancer \n",
    "from sklearn.linear_model import LogisticRegression \n",
    "\n",
    "data = load_breast_cancer() \n",
    "\n",
    "# x, y 데이터 생성 \n",
    "X = data.data \n",
    "\n",
    "# 악성을 1, 양성을 0으로 \n",
    "y = 1 - data.target \n",
    "\n",
    "# 특징으로 사용할 데이터를 평균으로 구분하는 10개 열로 축소\n",
    "X = X[:, :10] \n",
    "\n",
    "# 로지스틱 회귀 모델 생성 \n",
    "model_lor = LogisticRegression(solver = 'lbfgs') \n",
    "model_lor.fit(X,y) \n",
    "y_pred = model_lor.predict(X)"
   ]
  },
  {
   "cell_type": "markdown",
   "metadata": {
    "id": "faoAfc1ZgAcq"
   },
   "source": [
    "* 오차 행렬(혼동 행렬) 생성"
   ]
  },
  {
   "cell_type": "code",
   "execution_count": 15,
   "metadata": {
    "id": "JdML8YM0gBtu",
    "scrolled": false
   },
   "outputs": [
    {
     "data": {
      "text/plain": [
       "array([[337,  20],\n",
       "       [ 30, 182]], dtype=int64)"
      ]
     },
     "execution_count": 15,
     "metadata": {},
     "output_type": "execute_result"
    }
   ],
   "source": [
    "# 종속 변수와 예측 결과로 혼동 행렬 생성\n",
    "\n",
    "import pandas as pd\n",
    "import numpy as np\n",
    "# from Python.display import image\n",
    "import warnings\n",
    "warnings.filterwarnings('ignore')\n",
    "\n",
    "from sklearn.metrics import confusion_matrix\n",
    "\n",
    "cm = confusion_matrix(y,y_pred)\n",
    "cm"
   ]
  },
  {
   "cell_type": "code",
   "execution_count": 19,
   "metadata": {},
   "outputs": [
    {
     "name": "stdout",
     "output_type": "stream",
     "text": [
      "337\n",
      "20\n",
      "30\n",
      "182\n"
     ]
    }
   ],
   "source": [
    "print(cm[0][0])\n",
    "print(cm[0][1])\n",
    "print(cm[1][0])\n",
    "print(cm[1][1])"
   ]
  },
  {
   "cell_type": "code",
   "execution_count": null,
   "metadata": {},
   "outputs": [],
   "source": []
  },
  {
   "cell_type": "markdown",
   "metadata": {
    "id": "xbcK3rT-gFRk"
   },
   "source": [
    "* 정확도"
   ]
  },
  {
   "cell_type": "code",
   "execution_count": 21,
   "metadata": {
    "id": "NLiXFuYvgI1e"
   },
   "outputs": [
    {
     "name": "stdout",
     "output_type": "stream",
     "text": [
      "정확도: 0.9121265377855887\n"
     ]
    }
   ],
   "source": [
    "from sklearn.metrics import accuracy_score, precision_score, recall_score, confusion_matrix\n",
    "accuracy=accuracy_score(y,y_pred)\n",
    "print('정확도:',accuracy)"
   ]
  },
  {
   "cell_type": "markdown",
   "metadata": {
    "id": "UYnVZS9igNNf"
   },
   "source": [
    "* 정밀도"
   ]
  },
  {
   "cell_type": "code",
   "execution_count": 22,
   "metadata": {
    "id": "j108NueLgMKF"
   },
   "outputs": [
    {
     "name": "stdout",
     "output_type": "stream",
     "text": [
      "0.900990099009901\n"
     ]
    }
   ],
   "source": [
    "precison=precision_score(y,y_pred)\n",
    "print(precison)"
   ]
  },
  {
   "cell_type": "markdown",
   "metadata": {
    "id": "2-MBquNJZOM4"
   },
   "source": [
    "* 재현율"
   ]
  },
  {
   "cell_type": "code",
   "execution_count": 27,
   "metadata": {
    "id": "uje4ivPvZPwv"
   },
   "outputs": [
    {
     "name": "stdout",
     "output_type": "stream",
     "text": [
      "0.8584905660377359\n"
     ]
    }
   ],
   "source": [
    "recall=recall_score(y,y_pred)\n",
    "print(recall)"
   ]
  },
  {
   "cell_type": "markdown",
   "metadata": {
    "id": "Cw1p3yjagUCH"
   },
   "source": [
    "* F1 score"
   ]
  },
  {
   "cell_type": "code",
   "execution_count": 28,
   "metadata": {
    "id": "hPdtYdoDgYgV"
   },
   "outputs": [
    {
     "name": "stdout",
     "output_type": "stream",
     "text": [
      "F1 스코어: 0.8792270531400966\n"
     ]
    }
   ],
   "source": [
    "from sklearn.metrics import f1_score\n",
    "f1=f1_score(y,y_pred)\n",
    "print(\"F1 스코어:\", f1)"
   ]
  },
  {
   "cell_type": "markdown",
   "metadata": {
    "id": "fzwIFsKOW5a1"
   },
   "source": [
    "* 예측 확률(pred_proba) : 0으로 예측할 확률이 0.1보다 크면 y_pred2 에 넣는다 가정."
   ]
  },
  {
   "cell_type": "code",
   "execution_count": 40,
   "metadata": {
    "id": "nw9dxOiPW40l"
   },
   "outputs": [],
   "source": [
    "from sklearn.preprocessing import Binarizer\n",
    "pred_proba = model_lor.predict_proba(X)\n",
    "pred_proba2 = pred_proba[:,1].reshape(-1,1)\n",
    "## predict_proba() 결과 값의 두번째 컬럼, 즉 Postive 클래스의 컬럼 하나만 추출하여 Binarizer 를 적용\n",
    "\n",
    "y_pred2 = Binarizer(threshold=0.1).fit_transform(pred_proba2)"
   ]
  },
  {
   "cell_type": "code",
   "execution_count": 42,
   "metadata": {
    "id": "Y-WrHrICYFB1",
    "scrolled": false
   },
   "outputs": [
    {
     "data": {
      "text/plain": [
       "array([[267,  90],\n",
       "       [  6, 206]], dtype=int64)"
      ]
     },
     "execution_count": 42,
     "metadata": {},
     "output_type": "execute_result"
    }
   ],
   "source": [
    "# y과 y_pred2의 혼동행렬, 정확도, 정밀도, 재현율, f1 score 구하기\n",
    "\n",
    "cm2 = confusion_matrix(y,y_pred2)\n",
    "cm2"
   ]
  },
  {
   "cell_type": "code",
   "execution_count": 44,
   "metadata": {},
   "outputs": [
    {
     "name": "stdout",
     "output_type": "stream",
     "text": [
      "정확도: 0.8312829525483304\n"
     ]
    }
   ],
   "source": [
    "#정확도\n",
    "accuracy2=accuracy_score(y,y_pred2)\n",
    "print('정확도:',accuracy2)"
   ]
  },
  {
   "cell_type": "code",
   "execution_count": 46,
   "metadata": {},
   "outputs": [
    {
     "name": "stdout",
     "output_type": "stream",
     "text": [
      "0.6959459459459459\n"
     ]
    }
   ],
   "source": [
    "#정밀도\n",
    "precison2=precision_score(y,y_pred2)\n",
    "print(precison2)"
   ]
  },
  {
   "cell_type": "code",
   "execution_count": 47,
   "metadata": {},
   "outputs": [
    {
     "name": "stdout",
     "output_type": "stream",
     "text": [
      "0.9716981132075472\n"
     ]
    }
   ],
   "source": [
    "#재현율\n",
    "recall2=recall_score(y,y_pred2)\n",
    "print(recall2)"
   ]
  },
  {
   "cell_type": "code",
   "execution_count": 48,
   "metadata": {},
   "outputs": [
    {
     "name": "stdout",
     "output_type": "stream",
     "text": [
      "F1 스코어: 0.8110236220472441\n"
     ]
    }
   ],
   "source": [
    "f1_2=f1_score(y,y_pred2)\n",
    "print(\"F1 스코어:\", f1_2)"
   ]
  },
  {
   "cell_type": "markdown",
   "metadata": {
    "id": "itgf_OjsjU-R"
   },
   "source": [
    "* ROC 곡선 시각화"
   ]
  },
  {
   "cell_type": "code",
   "execution_count": 53,
   "metadata": {},
   "outputs": [],
   "source": [
    "import matplotlib.pyplot as plt\n",
    "import matplotlib.ticker as ticker\n",
    "%matplotlib inline"
   ]
  },
  {
   "cell_type": "raw",
   "metadata": {
    "id": "DW75xBokjXKy"
   },
   "source": [
    "from sklearn.metrics import roc_curve \n",
    "\n",
    "\n",
    "def roc_curve_plot(y_test,pred_proba_c1):\n",
    "    fprs,tprs,thresholds = roc_curve(y_test,pred_proba_c1)\n",
    "    plt.plot(fprs,tprs,label='ROC')\n",
    "    plt.plot([0,1],[0,1],'k--',label='Random')\n",
    "    \n",
    "    start, end = plt.xlim()\n",
    "    plt.xticks(np.round(np.arange(start,end,0.1),2))\n",
    "    plt.xlim(0,1)\n",
    "    plt.ylim(0,1)\n",
    "    plt.xlabel('FPR(1-Sensitivity)')\n",
    "    plt.ylabel('TRP(Recall)')\n",
    "    plt.legend()\n",
    "\n",
    "roc_curve_plot(y,pred_proba2)"
   ]
  },
  {
   "cell_type": "code",
   "execution_count": null,
   "metadata": {
    "id": "CSJ69SGJVh7m"
   },
   "outputs": [],
   "source": [
    "import matplotlib.pyplot as plt \n"
   ]
  },
  {
   "cell_type": "markdown",
   "metadata": {
    "id": "fL4as0YsWYD7"
   },
   "source": [
    "* ROC AUC 값"
   ]
  },
  {
   "cell_type": "code",
   "execution_count": 62,
   "metadata": {
    "id": "-SEElVZTWaVp"
   },
   "outputs": [
    {
     "name": "stdout",
     "output_type": "stream",
     "text": [
      "ROC AUC 값 : 0.9012\n"
     ]
    }
   ],
   "source": [
    "from sklearn.metrics import roc_auc_score\n",
    "\n",
    "roc_score=roc_auc_score(y,y_pred)\n",
    "print(\"ROC AUC 값 : {:.4f}\".format(roc_score))"
   ]
  }
 ],
 "metadata": {
  "colab": {
   "collapsed_sections": [],
   "name": "평가.ipynb",
   "provenance": []
  },
  "kernelspec": {
   "display_name": "Python 3",
   "language": "python",
   "name": "python3"
  },
  "language_info": {
   "codemirror_mode": {
    "name": "ipython",
    "version": 3
   },
   "file_extension": ".py",
   "mimetype": "text/x-python",
   "name": "python",
   "nbconvert_exporter": "python",
   "pygments_lexer": "ipython3",
   "version": "3.8.3"
  }
 },
 "nbformat": 4,
 "nbformat_minor": 1
}
