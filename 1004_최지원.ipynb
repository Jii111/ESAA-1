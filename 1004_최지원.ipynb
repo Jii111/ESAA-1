{
  "nbformat": 4,
  "nbformat_minor": 0,
  "metadata": {
    "colab": {
      "name": "Untitled4.ipynb",
      "provenance": [],
      "authorship_tag": "ABX9TyMQktW+Fgr4mAHR2KiqwmoB",
      "include_colab_link": true
    },
    "kernelspec": {
      "name": "python3",
      "display_name": "Python 3"
    },
    "language_info": {
      "name": "python"
    }
  },
  "cells": [
    {
      "cell_type": "markdown",
      "metadata": {
        "id": "view-in-github",
        "colab_type": "text"
      },
      "source": [
        "<a href=\"https://colab.research.google.com/github/Jii111/FOR-ESAA/blob/master/1004_%EC%B5%9C%EC%A7%80%EC%9B%90.ipynb\" target=\"_parent\"><img src=\"https://colab.research.google.com/assets/colab-badge.svg\" alt=\"Open In Colab\"/></a>"
      ]
    },
    {
      "cell_type": "code",
      "metadata": {
        "colab": {
          "base_uri": "https://localhost:8080/"
        },
        "id": "w8M1WU_3580R",
        "outputId": "615d7fde-ee2b-4248-c74e-33a38245f4e9"
      },
      "source": [
        "from datetime import datetime\n",
        "\n",
        "now1=datetime.now()\n",
        "print(now1)\n",
        "\n",
        "now2=datetime.today()\n",
        "print(now2)\n",
        "\n",
        "now1-now2"
      ],
      "execution_count": 6,
      "outputs": [
        {
          "output_type": "stream",
          "name": "stdout",
          "text": [
            "2021-10-04 06:07:58.969606\n",
            "2021-10-04 06:07:58.971368\n"
          ]
        },
        {
          "output_type": "execute_result",
          "data": {
            "text/plain": [
              "datetime.timedelta(days=-1, seconds=86399, microseconds=998238)"
            ]
          },
          "metadata": {},
          "execution_count": 6
        }
      ]
    },
    {
      "cell_type": "code",
      "metadata": {
        "colab": {
          "base_uri": "https://localhost:8080/"
        },
        "id": "jDJTSbtx7-W_",
        "outputId": "14f63956-51c1-422e-e740-470b29f3a9cb"
      },
      "source": [
        "pip install pandas-datareader"
      ],
      "execution_count": 38,
      "outputs": [
        {
          "output_type": "stream",
          "name": "stdout",
          "text": [
            "Requirement already satisfied: pandas-datareader in /usr/local/lib/python3.7/dist-packages (0.9.0)\n",
            "Requirement already satisfied: lxml in /usr/local/lib/python3.7/dist-packages (from pandas-datareader) (4.6.3)\n",
            "Requirement already satisfied: requests>=2.19.0 in /usr/local/lib/python3.7/dist-packages (from pandas-datareader) (2.23.0)\n",
            "Requirement already satisfied: pandas>=0.23 in /usr/local/lib/python3.7/dist-packages (from pandas-datareader) (1.1.5)\n",
            "Requirement already satisfied: numpy>=1.15.4 in /usr/local/lib/python3.7/dist-packages (from pandas>=0.23->pandas-datareader) (1.19.5)\n",
            "Requirement already satisfied: pytz>=2017.2 in /usr/local/lib/python3.7/dist-packages (from pandas>=0.23->pandas-datareader) (2018.9)\n",
            "Requirement already satisfied: python-dateutil>=2.7.3 in /usr/local/lib/python3.7/dist-packages (from pandas>=0.23->pandas-datareader) (2.8.2)\n",
            "Requirement already satisfied: six>=1.5 in /usr/local/lib/python3.7/dist-packages (from python-dateutil>=2.7.3->pandas>=0.23->pandas-datareader) (1.15.0)\n",
            "Requirement already satisfied: idna<3,>=2.5 in /usr/local/lib/python3.7/dist-packages (from requests>=2.19.0->pandas-datareader) (2.10)\n",
            "Requirement already satisfied: urllib3!=1.25.0,!=1.25.1,<1.26,>=1.21.1 in /usr/local/lib/python3.7/dist-packages (from requests>=2.19.0->pandas-datareader) (1.24.3)\n",
            "Requirement already satisfied: chardet<4,>=3.0.2 in /usr/local/lib/python3.7/dist-packages (from requests>=2.19.0->pandas-datareader) (3.0.4)\n",
            "Requirement already satisfied: certifi>=2017.4.17 in /usr/local/lib/python3.7/dist-packages (from requests>=2.19.0->pandas-datareader) (2021.5.30)\n"
          ]
        }
      ]
    },
    {
      "cell_type": "code",
      "metadata": {
        "id": "N4BlP6eMOL7e"
      },
      "source": [
        "import pandas as pd\n",
        "pd.core.common.is_list_like=pd.api.types.is_list_like\n",
        "import pandas_datareader as pdr"
      ],
      "execution_count": 10,
      "outputs": []
    },
    {
      "cell_type": "code",
      "metadata": {
        "id": "V4H-wn8QPvVp"
      },
      "source": [
        "import numpy as np\n",
        "import pandas as pd\n",
        "import datetime\n",
        "from datetime import datetime,date\n",
        "import matplotlib.pyplot as plt\n",
        "\n",
        "pd.core.common.is_list_like=pd.api.types.is_list_like\n",
        "import pandas_datareader as pdr"
      ],
      "execution_count": 21,
      "outputs": []
    },
    {
      "cell_type": "code",
      "metadata": {
        "colab": {
          "base_uri": "https://localhost:8080/"
        },
        "id": "FWrQhKcEOZaz",
        "outputId": "e4ac3eb8-9dd6-4985-a1ed-ab342d0ca5c5"
      },
      "source": [
        "pip install pandas_datareader"
      ],
      "execution_count": 39,
      "outputs": [
        {
          "output_type": "stream",
          "name": "stdout",
          "text": [
            "Requirement already satisfied: pandas_datareader in /usr/local/lib/python3.7/dist-packages (0.9.0)\n",
            "Requirement already satisfied: requests>=2.19.0 in /usr/local/lib/python3.7/dist-packages (from pandas_datareader) (2.23.0)\n",
            "Requirement already satisfied: pandas>=0.23 in /usr/local/lib/python3.7/dist-packages (from pandas_datareader) (1.1.5)\n",
            "Requirement already satisfied: lxml in /usr/local/lib/python3.7/dist-packages (from pandas_datareader) (4.6.3)\n",
            "Requirement already satisfied: numpy>=1.15.4 in /usr/local/lib/python3.7/dist-packages (from pandas>=0.23->pandas_datareader) (1.19.5)\n",
            "Requirement already satisfied: python-dateutil>=2.7.3 in /usr/local/lib/python3.7/dist-packages (from pandas>=0.23->pandas_datareader) (2.8.2)\n",
            "Requirement already satisfied: pytz>=2017.2 in /usr/local/lib/python3.7/dist-packages (from pandas>=0.23->pandas_datareader) (2018.9)\n",
            "Requirement already satisfied: six>=1.5 in /usr/local/lib/python3.7/dist-packages (from python-dateutil>=2.7.3->pandas>=0.23->pandas_datareader) (1.15.0)\n",
            "Requirement already satisfied: chardet<4,>=3.0.2 in /usr/local/lib/python3.7/dist-packages (from requests>=2.19.0->pandas_datareader) (3.0.4)\n",
            "Requirement already satisfied: urllib3!=1.25.0,!=1.25.1,<1.26,>=1.21.1 in /usr/local/lib/python3.7/dist-packages (from requests>=2.19.0->pandas_datareader) (1.24.3)\n",
            "Requirement already satisfied: idna<3,>=2.5 in /usr/local/lib/python3.7/dist-packages (from requests>=2.19.0->pandas_datareader) (2.10)\n",
            "Requirement already satisfied: certifi>=2017.4.17 in /usr/local/lib/python3.7/dist-packages (from requests>=2.19.0->pandas_datareader) (2021.5.30)\n"
          ]
        }
      ]
    },
    {
      "cell_type": "code",
      "metadata": {
        "colab": {
          "base_uri": "https://localhost:8080/"
        },
        "id": "z1mKGjdWRVV8",
        "outputId": "7b8a57c8-c3f2-4057-97aa-33936ac9edef"
      },
      "source": [
        "pip install quandl"
      ],
      "execution_count": 40,
      "outputs": [
        {
          "output_type": "stream",
          "name": "stdout",
          "text": [
            "Requirement already satisfied: quandl in /usr/local/lib/python3.7/dist-packages (3.6.1)\n",
            "Requirement already satisfied: requests>=2.7.0 in /usr/local/lib/python3.7/dist-packages (from quandl) (2.23.0)\n",
            "Requirement already satisfied: six in /usr/local/lib/python3.7/dist-packages (from quandl) (1.15.0)\n",
            "Requirement already satisfied: python-dateutil in /usr/local/lib/python3.7/dist-packages (from quandl) (2.8.2)\n",
            "Requirement already satisfied: pandas>=0.14 in /usr/local/lib/python3.7/dist-packages (from quandl) (1.1.5)\n",
            "Requirement already satisfied: numpy>=1.8 in /usr/local/lib/python3.7/dist-packages (from quandl) (1.19.5)\n",
            "Requirement already satisfied: inflection>=0.3.1 in /usr/local/lib/python3.7/dist-packages (from quandl) (0.5.1)\n",
            "Requirement already satisfied: more-itertools in /usr/local/lib/python3.7/dist-packages (from quandl) (8.10.0)\n",
            "Requirement already satisfied: pytz>=2017.2 in /usr/local/lib/python3.7/dist-packages (from pandas>=0.14->quandl) (2018.9)\n",
            "Requirement already satisfied: idna<3,>=2.5 in /usr/local/lib/python3.7/dist-packages (from requests>=2.7.0->quandl) (2.10)\n",
            "Requirement already satisfied: certifi>=2017.4.17 in /usr/local/lib/python3.7/dist-packages (from requests>=2.7.0->quandl) (2021.5.30)\n",
            "Requirement already satisfied: chardet<4,>=3.0.2 in /usr/local/lib/python3.7/dist-packages (from requests>=2.7.0->quandl) (3.0.4)\n",
            "Requirement already satisfied: urllib3!=1.25.0,!=1.25.1,<1.26,>=1.21.1 in /usr/local/lib/python3.7/dist-packages (from requests>=2.7.0->quandl) (1.24.3)\n"
          ]
        }
      ]
    },
    {
      "cell_type": "code",
      "metadata": {
        "id": "HHqwFzWHPXWj"
      },
      "source": [
        "pd.core.common.is_list_like=pd.api.types.is_list_like\n",
        "import pandas_datareader as pdr"
      ],
      "execution_count": 41,
      "outputs": []
    },
    {
      "cell_type": "code",
      "metadata": {
        "id": "V_ZIvyuaRc3x"
      },
      "source": [
        "tesla=pdr.get_data_quandl('TSLA',api_key='dD4cVdGRKmhWdncCxu8h')"
      ],
      "execution_count": 44,
      "outputs": []
    },
    {
      "cell_type": "code",
      "metadata": {
        "id": "hnTTi3YzYr_K"
      },
      "source": [
        "tesla.to_csv('../tesla_stock_quandl.csv')"
      ],
      "execution_count": 46,
      "outputs": []
    },
    {
      "cell_type": "code",
      "metadata": {
        "colab": {
          "base_uri": "https://localhost:8080/"
        },
        "id": "ZiZwY-V5Y6_e",
        "outputId": "cd856344-5b36-4972-e5ea-ae827d63b2de"
      },
      "source": [
        "tesla=pdr.get_data_quandl('TSLA',api_key='dD4cVdGRKmhWdncCxu8h')\n",
        "print(tesla.head())"
      ],
      "execution_count": 53,
      "outputs": [
        {
          "output_type": "stream",
          "name": "stdout",
          "text": [
            "              Open    High     Low  ...  AdjLow  AdjClose   AdjVolume\n",
            "Date                                ...                              \n",
            "2018-03-27  304.00  304.27  277.18  ...  277.18    279.18  13696168.0\n",
            "2018-03-26  307.34  307.59  291.36  ...  291.36    304.18   8324639.0\n",
            "2018-03-23  311.25  311.61  300.45  ...  300.45    301.54   6600538.0\n",
            "2018-03-22  313.89  318.82  308.18  ...  308.18    309.10   4914307.0\n",
            "2018-03-21  310.25  322.44  310.19  ...  310.19    316.53   5927881.0\n",
            "\n",
            "[5 rows x 12 columns]\n"
          ]
        }
      ]
    },
    {
      "cell_type": "code",
      "metadata": {
        "colab": {
          "base_uri": "https://localhost:8080/"
        },
        "id": "L-mOIq4zZgmK",
        "outputId": "e5186b6d-56f3-43c7-b06a-fa56ee23f110"
      },
      "source": [
        "tesla=pd.read_csv('../tesla_stock_quandl.csv',parse_dates=[0])\n",
        "print(tesla.info())\n",
        "print(tesla.head())"
      ],
      "execution_count": 59,
      "outputs": [
        {
          "output_type": "stream",
          "name": "stdout",
          "text": [
            "<class 'pandas.core.frame.DataFrame'>\n",
            "RangeIndex: 370 entries, 0 to 369\n",
            "Data columns (total 13 columns):\n",
            " #   Column      Non-Null Count  Dtype         \n",
            "---  ------      --------------  -----         \n",
            " 0   Date        370 non-null    datetime64[ns]\n",
            " 1   Open        370 non-null    float64       \n",
            " 2   High        370 non-null    float64       \n",
            " 3   Low         370 non-null    float64       \n",
            " 4   Close       370 non-null    float64       \n",
            " 5   Volume      370 non-null    float64       \n",
            " 6   ExDividend  370 non-null    float64       \n",
            " 7   SplitRatio  370 non-null    float64       \n",
            " 8   AdjOpen     370 non-null    float64       \n",
            " 9   AdjHigh     370 non-null    float64       \n",
            " 10  AdjLow      370 non-null    float64       \n",
            " 11  AdjClose    370 non-null    float64       \n",
            " 12  AdjVolume   370 non-null    float64       \n",
            "dtypes: datetime64[ns](1), float64(12)\n",
            "memory usage: 37.7 KB\n",
            "None\n",
            "        Date    Open    High     Low  ...  AdjHigh  AdjLow  AdjClose   AdjVolume\n",
            "0 2018-03-27  304.00  304.27  277.18  ...   304.27  277.18    279.18  13696168.0\n",
            "1 2018-03-26  307.34  307.59  291.36  ...   307.59  291.36    304.18   8324639.0\n",
            "2 2018-03-23  311.25  311.61  300.45  ...   311.61  300.45    301.54   6600538.0\n",
            "3 2018-03-22  313.89  318.82  308.18  ...   318.82  308.18    309.10   4914307.0\n",
            "4 2018-03-21  310.25  322.44  310.19  ...   322.44  310.19    316.53   5927881.0\n",
            "\n",
            "[5 rows x 13 columns]\n"
          ]
        }
      ]
    },
    {
      "cell_type": "code",
      "metadata": {
        "colab": {
          "base_uri": "https://localhost:8080/"
        },
        "id": "pIJbgPK2aSHm",
        "outputId": "fbd3e79d-86b3-4161-d91d-8b54e27b76aa"
      },
      "source": [
        "print(tesla.loc[(tesla.Date.dt.year==2016)&(tesla.Date.dt.month==10)])"
      ],
      "execution_count": 64,
      "outputs": [
        {
          "output_type": "stream",
          "name": "stdout",
          "text": [
            "                 Date    Open      High  ...  AdjLow  AdjClose   AdjVolume\n",
            "Date                                     ...                              \n",
            "2016-10-31 2016-10-31  202.49  202.4900  ...  195.81    197.73   4692273.0\n",
            "2016-10-28 2016-10-28  204.00  205.3200  ...  199.83    199.97   4280141.0\n",
            "2016-10-27 2016-10-27  211.34  213.7000  ...  201.65    204.01  13093744.0\n",
            "2016-10-26 2016-10-26  201.00  203.1900  ...  200.10    202.24   5632841.0\n",
            "2016-10-25 2016-10-25  202.90  204.6900  ...  201.20    202.34   2445014.0\n",
            "2016-10-24 2016-10-24  201.00  203.9452  ...  200.25    202.76   2751562.0\n",
            "2016-10-21 2016-10-21  198.60  201.5700  ...  197.41    200.09   2943402.0\n",
            "2016-10-20 2016-10-20  202.12  203.0000  ...  197.05    199.10   5072877.0\n",
            "2016-10-19 2016-10-19  199.74  206.6600  ...  198.06    203.56   6991183.0\n",
            "2016-10-18 2016-10-18  195.99  199.4700  ...  193.26    199.10   5680475.0\n",
            "2016-10-17 2016-10-17  197.05  198.3900  ...  192.00    193.96   4554080.0\n",
            "2016-10-14 2016-10-14  200.66  201.4300  ...  196.30    196.51   4269850.0\n",
            "2016-10-13 2016-10-13  200.50  200.8950  ...  197.05    200.24   2495413.0\n",
            "2016-10-12 2016-10-12  200.95  203.8800  ...  200.42    201.51   1970689.0\n",
            "2016-10-11 2016-10-11  201.85  202.2000  ...  198.31    200.10   2328422.0\n",
            "2016-10-10 2016-10-10  201.35  204.1400  ...  199.66    200.95   3316297.0\n",
            "2016-10-07 2016-10-07  201.00  201.3200  ...  195.80    196.61   3493018.0\n",
            "2016-10-06 2016-10-06  202.46  204.2099  ...  200.21    201.00   4703402.0\n",
            "2016-10-05 2016-10-05  212.24  213.1500  ...  208.12    208.46   1877534.0\n",
            "\n",
            "[19 rows x 13 columns]\n"
          ]
        }
      ]
    },
    {
      "cell_type": "code",
      "metadata": {
        "colab": {
          "base_uri": "https://localhost:8080/"
        },
        "id": "cTTYGJF1arRh",
        "outputId": "df5ca3bb-1cd0-4890-c0a3-81274372328a"
      },
      "source": [
        "tesla.index=tesla['Date']\n",
        "print(tesla.index)"
      ],
      "execution_count": 62,
      "outputs": [
        {
          "output_type": "stream",
          "name": "stdout",
          "text": [
            "DatetimeIndex(['2018-03-27', '2018-03-26', '2018-03-23', '2018-03-22',\n",
            "               '2018-03-21', '2018-03-20', '2018-03-19', '2018-03-16',\n",
            "               '2018-03-15', '2018-03-14',\n",
            "               ...\n",
            "               '2016-10-18', '2016-10-17', '2016-10-14', '2016-10-13',\n",
            "               '2016-10-12', '2016-10-11', '2016-10-10', '2016-10-07',\n",
            "               '2016-10-06', '2016-10-05'],\n",
            "              dtype='datetime64[ns]', name='Date', length=370, freq=None)\n"
          ]
        }
      ]
    },
    {
      "cell_type": "code",
      "metadata": {
        "colab": {
          "base_uri": "https://localhost:8080/"
        },
        "id": "r-sLH1Iaa1h6",
        "outputId": "e98bfbb4-30dd-46d0-9c56-6971a2a06c2d"
      },
      "source": [
        "print(tesla['2015'].iloc[:5,:5])"
      ],
      "execution_count": 65,
      "outputs": [
        {
          "output_type": "stream",
          "name": "stdout",
          "text": [
            "Empty DataFrame\n",
            "Columns: [Date, Open, High, Low, Close]\n",
            "Index: []\n"
          ]
        }
      ]
    },
    {
      "cell_type": "code",
      "metadata": {
        "colab": {
          "base_uri": "https://localhost:8080/"
        },
        "id": "YsItwzNcbAVN",
        "outputId": "a37b3542-7df6-4ce0-fe50-ec07dda399ff"
      },
      "source": [
        "tesla['ref_date']=tesla['Date']-tesla['Date'].min()\n",
        "print(tesla.head())\n",
        "\n",
        "tesla.index=tesla['ref_date']\n",
        "print(tesla.iloc[:5,:5])\n",
        "print(tesla['5 days':].iloc[:5,:5])"
      ],
      "execution_count": 68,
      "outputs": [
        {
          "output_type": "stream",
          "name": "stdout",
          "text": [
            "               Date    Open    High  ...  AdjClose   AdjVolume  ref_date\n",
            "ref_date                             ...                                \n",
            "538 days 2018-03-27  304.00  304.27  ...    279.18  13696168.0  538 days\n",
            "537 days 2018-03-26  307.34  307.59  ...    304.18   8324639.0  537 days\n",
            "534 days 2018-03-23  311.25  311.61  ...    301.54   6600538.0  534 days\n",
            "533 days 2018-03-22  313.89  318.82  ...    309.10   4914307.0  533 days\n",
            "532 days 2018-03-21  310.25  322.44  ...    316.53   5927881.0  532 days\n",
            "\n",
            "[5 rows x 14 columns]\n",
            "               Date    Open    High     Low   Close\n",
            "ref_date                                           \n",
            "538 days 2018-03-27  304.00  304.27  277.18  279.18\n",
            "537 days 2018-03-26  307.34  307.59  291.36  304.18\n",
            "534 days 2018-03-23  311.25  311.61  300.45  301.54\n",
            "533 days 2018-03-22  313.89  318.82  308.18  309.10\n",
            "532 days 2018-03-21  310.25  322.44  310.19  316.53\n",
            "               Date    Open      High     Low   Close\n",
            "ref_date                                             \n",
            "5 days   2016-10-10  201.35  204.1400  199.66  200.95\n",
            "2 days   2016-10-07  201.00  201.3200  195.80  196.61\n",
            "1 days   2016-10-06  202.46  204.2099  200.21  201.00\n",
            "0 days   2016-10-05  212.24  213.1500  208.12  208.46\n"
          ]
        }
      ]
    }
  ]
}